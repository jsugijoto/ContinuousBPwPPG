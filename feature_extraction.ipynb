{
 "cells": [
  {
   "cell_type": "code",
   "execution_count": 85,
   "metadata": {},
   "outputs": [],
   "source": [
    "import pandas as pd\n",
    "import matplotlib.pyplot as plt\n",
    "import numpy as np\n",
    "from scipy.signal import argrelextrema, find_peaks\n",
    "from scipy.io import loadmat\n",
    "from peakdetect import peakdetect, zero_crossings\n",
    "import filter as f\n",
    "import mat73\n",
    "\n"
   ]
  },
  {
   "cell_type": "code",
   "execution_count": 4,
   "metadata": {},
   "outputs": [
    {
     "name": "stdout",
     "output_type": "stream",
     "text": [
      "--2020-09-03 01:41:19--  https://archive.ics.uci.edu/ml/machine-learning-databases/00340/data.zip\n",
      "Resolving archive.ics.uci.edu (archive.ics.uci.edu)... 128.195.10.252\n",
      "Connecting to archive.ics.uci.edu (archive.ics.uci.edu)|128.195.10.252|:443... connected.\n",
      "HTTP request sent, awaiting response... 200 OK\n",
      "Length: 3363163675 (3.1G) [application/x-httpd-php]\n",
      "Saving to: ‘data.zip’\n",
      "\n",
      "data.zip            100%[===================>]   3.13G  11.2MB/s    in 4m 47s  \n",
      "\n",
      "2020-09-03 01:46:06 (11.2 MB/s) - ‘data.zip’ saved [3363163675/3363163675]\n",
      "\n"
     ]
    }
   ],
   "source": [
    "# STOP REDOWNLOADING THIS\n",
    "!wget https://archive.ics.uci.edu/ml/machine-learning-databases/00340/data.zip"
   ]
  },
  {
   "cell_type": "code",
   "execution_count": 86,
   "metadata": {},
   "outputs": [],
   "source": [
    "# STOP RELOADING THIS AS WELL\n",
    "dat = mat73.loadmat(r'data/Part_1.mat')"
   ]
  },
  {
   "cell_type": "code",
   "execution_count": 138,
   "metadata": {},
   "outputs": [
    {
     "data": {
      "image/png": "[encoded data removed]",
      "text/plain": [
       "<matplotlib.figure.Figure at 0x7f81eb041470>"
      ]
     },
     "metadata": {},
     "output_type": "display_data"
    }
   ],
   "source": [
    "# Load the PPG data\n",
    "ppg = dat['Part_1'][0][0]\n",
    "\n",
    "peaks = PT_Detection(ppg)\n",
    "xmax, ymax, xmin, ymin = peaks.detect() # peaks and troughs of the PPG signal\n",
    "peaks.display(xmax, ymax, xmin, ymin)\n",
    "\n",
    "values = Features(ppg)\n"
   ]
  },
  {
   "cell_type": "code",
   "execution_count": 134,
   "metadata": {
    "scrolled": false
   },
   "outputs": [
    {
     "data": {
      "text/plain": [
       "'test = [2,-1,-2,1,3,5,10,-3,-2,0]\\nfor (x,y) in zip(np.arange(0,len(test))[:-lookahead], test[:-lookahead]):\\n    if abs(y) < abs(z):\\n        z = y\\n        zpos = x\\n    if abs(y) > abs(z) and z != np.Inf:\\n        if abs(dy[index:index+lookahead]).min() > z:\\n            zs.append([zpos,z])\\n            z = np.Inf\\n        if index+lookahead >= len(dy):\\n            break\\n        continue\\n    index += 1\\n\\n    print(index)\\nplt.plot(test)\\nzpos = [k[0] for k in zs]\\nz = [k[1] for k in zs]\\nprint(zs)\\nplt.grid(True)\\nplt.scatter(zpos,z)'"
      ]
     },
     "execution_count": 134,
     "metadata": {},
     "output_type": "execute_result"
    }
   ],
   "source": [
    "# Looking for values closest to zeros here (not working)\n",
    "# 1st Derivative \n",
    "dy = np.diff(ppg)\n",
    "dx = 1\n",
    "first = dy/dx\n",
    "\n",
    "z = np.Inf\n",
    "lookahead=1\n",
    "zs = []\n",
    "index = 0\n",
    "'''test = [2,-1,-2,1,3,5,10,-3,-2,0]\n",
    "for (x,y) in zip(np.arange(0,len(test))[:-lookahead], test[:-lookahead]):\n",
    "    if abs(y) < abs(z):\n",
    "        z = y\n",
    "        zpos = x\n",
    "    if abs(y) > abs(z) and z != np.Inf:\n",
    "        if abs(dy[index:index+lookahead]).min() > z:\n",
    "            zs.append([zpos,z])\n",
    "            z = np.Inf\n",
    "        if index+lookahead >= len(dy):\n",
    "            break\n",
    "        continue\n",
    "    index += 1\n",
    "\n",
    "    print(index)\n",
    "plt.plot(test)\n",
    "zpos = [k[0] for k in zs]\n",
    "z = [k[1] for k in zs]\n",
    "print(zs)\n",
    "plt.grid(True)\n",
    "plt.scatter(zpos,z)'''"
   ]
  },
  {
   "cell_type": "code",
   "execution_count": 135,
   "metadata": {},
   "outputs": [],
   "source": [
    "# Clean Class\n",
    "# Only detects the systolic peaks and the end of the period. Need to calculate the second derivative of the function in order\n",
    "# to get to the diastolic peaks and the dicrotic notch\n",
    "class PT_Detection: \n",
    "    \n",
    "    def __init__(self, data):\n",
    "        self.data = data\n",
    "        \n",
    "    # Detect the systolic/diastolic peaks and the dicrotic notch    \n",
    "    def detect(self):\n",
    "        max, min = peakdetect(self.data, np.arange(0,len(self.data)), lookahead=10)\n",
    "        xmax = [p[0] for p in max]\n",
    "        ymax = [p[1] for p in max]\n",
    "        xmin = [p[0] for p in min]\n",
    "        ymin = [p[1] for p in min]\n",
    "        return xmax, ymax, xmin, ymin\n",
    "        \n",
    "    def display(self, xmax, ymax, xmin, ymin):\n",
    "        plt.scatter(xmax,ymax)\n",
    "        plt.scatter(xmin,ymin)\n",
    "        plt.xlim(0,300)\n",
    "        plt.plot(self.data)"
   ]
  },
  {
   "cell_type": "code",
   "execution_count": 148,
   "metadata": {},
   "outputs": [],
   "source": [
    "if len(xmax) > len(xmin):\n",
    "    xmax = xmax[:-1]\n",
    "    ymax = ymax[:-1]\n",
    "\n",
    "# Peak to Peak\n",
    "p2p = np.diff(xmax)\n",
    "\n",
    "# Pulse Interval\n",
    "PI = np.diff(xmin)\n",
    "\n",
    "# Systolic Amplitude\n",
    "SA = np.array([])\n",
    "for max in range(len(ymax)):\n",
    "    difference = ymax[max] - ymin[max]\n",
    "    SA = np.append(SA, difference)\n",
    "    \n",
    "# Average Value between max and min\n",
    "Avg = np.array([])\n",
    "for avg in range(len(ymax)):\n",
    "    average = (ymax[max] + ymin[max]) / 2\n",
    "    Avg = np.append(Avg, average)\n",
    "    \n",
    "\n",
    "# Pulse Width - at 50% of the systolic amplitude, get the width of the PPG wave from that x value to the next end of the PPG\n",
    "# wave. \n",
    "# 1. Take the systolic amplitude and divide it by 50%, 2. Search through the first half of the PPG wave (before the systolic\n",
    "# peak) and find the x value that corresponds to that y value of 50% of the systolic amplitude. 3. Search through the second \n",
    "# half of the PPG wave and find the x value that corresponds to that same y value. 4. Take the difference in x positions in \n",
    "# order to get the 50% pulse width\n",
    "PW1 = np.array([])\n",
    "PW2 = np.array([])\n",
    "PW1x = np.array([])\n",
    "PW2x = np.array([])\n",
    "i, xval1, xval2 = 0, 0, 0\n",
    "for mid in Avg: # for each systolic amplitude -> for each PPG wavelength that there is\n",
    "    u_candidate = np.array([]) # candidates on the way up to the systolic peak\n",
    "    d_candidate = np.array([]) # candidates on the way down to the end of the wavelength\n",
    "    height = mid # Want 50% pulse width\n",
    "    if i >= len(xmin)-1:\n",
    "        break\n",
    "\n",
    "    for value in range(xmin[i], xmax[i+1]):\n",
    "        u_candidate = np.append(u_candidate, abs((ppg[value] - height)))\n",
    "\n",
    "    yval1 = ppg[xmin[i] + np.argmin(u_candidate)]\n",
    "    xval1 = xmin[i] + np.argmin(u_candidate)\n",
    "    PW1x = np.append(PW1x, xval1)\n",
    "    PW1 = np.append(PW1, yval1)\n",
    "\n",
    "    for value in range(xmax[i+1], xmin[i+1]):\n",
    "        d_candidate = np.append(d_candidate, abs((ppg[value] - height)))\n",
    "    yval2 = ppg[xmax[i+1] + np.argmin(d_candidate)]\n",
    "    xval2 = xmax[i+1] + np.argmin(d_candidate)\n",
    "    PW2 = np.append(PW2, yval2)\n",
    "    PW2x = np.append(PW2x, xval2)\n",
    "    \n",
    "    i += 1\n"
   ]
  },
  {
   "cell_type": "code",
   "execution_count": 147,
   "metadata": {},
   "outputs": [
    {
     "data": {
      "text/plain": [
       "<matplotlib.collections.PathCollection at 0x7f81ead7dda0>"
      ]
     },
     "execution_count": 147,
     "metadata": {},
     "output_type": "execute_result"
    },
    {
     "data": {
      "image/png": "[encoded data removed]",
      "text/plain": [
       "<matplotlib.figure.Figure at 0x7f81eadfb860>"
      ]
     },
     "metadata": {},
     "output_type": "display_data"
    }
   ],
   "source": [
    "plt.xlim(0,1000)\n",
    "plt.plot(ppg)\n",
    "plt.scatter(PW1x, PW1, color='red')\n",
    "plt.scatter(PW2x, PW2, color='orange')"
   ]
  },
  {
   "cell_type": "code",
   "execution_count": 13,
   "metadata": {},
   "outputs": [],
   "source": [
    "# Clean Feature Class\n",
    "class Features:\n",
    "    def __init__(self, data):\n",
    "        self.data = data\n",
    "        extrema = PT_Detection(data)\n",
    "        self.xmax, self.ymax, self.xmin, self.ymin = extrema.detect()\n",
    "        # Set up the indices to match up properly\n",
    "        if self.xmax[0] > self.xmin[0]:\n",
    "            self.xmin = self.xmin[1:]\n",
    "            self.ymin = self.ymin[1:]\n",
    "        if len(self.xmax) > len(self.xmin):\n",
    "            self.xmax = self.xmax[:-1]\n",
    "            self.ymax = self.ymax[:-1]\n",
    "        \n",
    "    def p2p():\n",
    "        return np.diff(xmax)\n",
    "    \n",
    "    def p_i():\n",
    "        return np.diff(xmin)\n",
    "    \n",
    "    def SA():\n",
    "        SA = np.array([])\n",
    "        for max in range(len(self.ymax)):\n",
    "            difference = self.ymax[max] - self.ymin[max]\n",
    "            SA = np.append(SA, difference)\n",
    "        return SA"
   ]
  },
  {
   "cell_type": "code",
   "execution_count": 56,
   "metadata": {},
   "outputs": [
    {
     "name": "stdout",
     "output_type": "stream",
     "text": [
      "[1.78201369 1.76930596 1.74193548 ... 1.78396872 1.82111437 1.89540567]\n"
     ]
    }
   ],
   "source": [
    "print(SA)"
   ]
  },
  {
   "cell_type": "code",
   "execution_count": 83,
   "metadata": {},
   "outputs": [
    {
     "ename": "NameError",
     "evalue": "name 'PWx' is not defined",
     "output_type": "error",
     "traceback": [
      "\u001b[0;31m---------------------------------------------------------------------------\u001b[0m",
      "\u001b[0;31mNameError\u001b[0m                                 Traceback (most recent call last)",
      "\u001b[0;32m<ipython-input-83-b312401cbe9d>\u001b[0m in \u001b[0;36m<module>\u001b[0;34m()\u001b[0m\n\u001b[0;32m----> 1\u001b[0;31m \u001b[0mplt\u001b[0m\u001b[0;34m.\u001b[0m\u001b[0mscatter\u001b[0m\u001b[0;34m(\u001b[0m\u001b[0mPW1\u001b[0m\u001b[0;34m,\u001b[0m \u001b[0mPWx\u001b[0m\u001b[0;34m)\u001b[0m\u001b[0;34m\u001b[0m\u001b[0;34m\u001b[0m\u001b[0m\n\u001b[0m",
      "\u001b[0;31mNameError\u001b[0m: name 'PWx' is not defined"
     ]
    }
   ],
   "source": [
    "plt.scatter(PW1, PWx)"
   ]
  },
  {
   "cell_type": "code",
   "execution_count": 98,
   "metadata": {},
   "outputs": [
    {
     "data": {
      "text/plain": [
       "<matplotlib.collections.PathCollection at 0x7f81f0097dd8>"
      ]
     },
     "execution_count": 98,
     "metadata": {},
     "output_type": "execute_result"
    },
    {
     "data": {
      "image/png": "[encoded data removed]",
      "text/plain": [
       "<matplotlib.figure.Figure at 0x7f81eb6e69b0>"
      ]
     },
     "metadata": {},
     "output_type": "display_data"
    }
   ],
   "source": [
    "plt.scatter(np.arange(0,15), ppg[92:107])"
   ]
  },
  {
   "cell_type": "code",
   "execution_count": null,
   "metadata": {},
   "outputs": [],
   "source": []
  }
 ],
 "metadata": {
  "kernelspec": {
   "display_name": "Python 3",
   "language": "python",
   "name": "python3"
  },
  "language_info": {
   "codemirror_mode": {
    "name": "ipython",
    "version": 3
   },
   "file_extension": ".py",
   "mimetype": "text/x-python",
   "name": "python",
   "nbconvert_exporter": "python",
   "pygments_lexer": "ipython3",
   "version": "3.6.9"
  }
 },
 "nbformat": 4,
 "nbformat_minor": 4
}
