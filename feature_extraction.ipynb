{
 "cells": [
  {
   "cell_type": "code",
   "execution_count": 2,
   "metadata": {},
   "outputs": [],
   "source": [
    "import pandas as pd\n",
    "import matplotlib.pyplot as plt\n",
    "import numpy as np\n",
    "from scipy.signal import argrelextrema, find_peaks\n",
    "from scipy.io import loadmat\n",
    "from peakdetect import peakdetect, zero_crossings\n",
    "import filter as f\n",
    "import mat73\n",
    "\n"
   ]
  },
  {
   "cell_type": "code",
   "execution_count": 4,
   "metadata": {},
   "outputs": [
    {
     "name": "stdout",
     "output_type": "stream",
     "text": [
      "--2020-09-03 01:41:19--  https://archive.ics.uci.edu/ml/machine-learning-databases/00340/data.zip\n",
      "Resolving archive.ics.uci.edu (archive.ics.uci.edu)... 128.195.10.252\n",
      "Connecting to archive.ics.uci.edu (archive.ics.uci.edu)|128.195.10.252|:443... connected.\n",
      "HTTP request sent, awaiting response... 200 OK\n",
      "Length: 3363163675 (3.1G) [application/x-httpd-php]\n",
      "Saving to: ‘data.zip’\n",
      "\n",
      "data.zip            100%[===================>]   3.13G  11.2MB/s    in 4m 47s  \n",
      "\n",
      "2020-09-03 01:46:06 (11.2 MB/s) - ‘data.zip’ saved [3363163675/3363163675]\n",
      "\n"
     ]
    }
   ],
   "source": [
    "# STOP REDOWNLOADING THIS\n",
    "!wget https://archive.ics.uci.edu/ml/machine-learning-databases/00340/data.zip"
   ]
  },
  {
   "cell_type": "code",
   "execution_count": 3,
   "metadata": {},
   "outputs": [],
   "source": [
    "# STOP RELOADING THIS AS WELL\n",
    "dat = mat73.loadmat(r'data/Part_1.mat')"
   ]
  },
  {
   "cell_type": "code",
   "execution_count": 43,
   "metadata": {
    "scrolled": true
   },
   "outputs": [
    {
     "data": {
      "image/png": "[encoded data removed]",
      "text/plain": [
       "<matplotlib.figure.Figure at 0x7f1a1f7dffd0>"
      ]
     },
     "metadata": {},
     "output_type": "display_data"
    }
   ],
   "source": [
    "# Load the PPG data\n",
    "ppg = dat['Part_1'][0][0]\n",
    "\n",
    "peaks = PT_Detection(ppg)\n",
    "xmax, ymax, xmin, ymin = peaks.detect() # peaks and troughs of the PPG signal\n",
    "peaks.display(xmax, ymax, xmin, ymin)\n",
    "\n",
    "values = Features(ppg)\n"
   ]
  },
  {
   "cell_type": "code",
   "execution_count": 30,
   "metadata": {},
   "outputs": [
    {
     "name": "stdout",
     "output_type": "stream",
     "text": [
      "[29, 92, 154, 216, 277, 339, 400, 462, 522, 582, 643, 704, 764, 824, 884, 944, 1005, 1065, 1125, 1185, 1246, 1307, 1368, 1428, 1488, 1550, 1611, 1671, 1732, 1793, 1853, 1914, 1975, 2036, 2097, 2159, 2219, 2280, 2341, 2402, 2463, 2523, 2583, 2643, 2704, 2765, 2824, 2884, 2944, 3004, 3065, 3125, 3185, 3245, 3306, 3367, 3428, 3488, 3550, 3611, 3673, 3734, 3794, 3856, 3917, 3979, 4039, 4100, 4161, 4222, 4283, 4343, 4404, 4466, 4527, 4587, 4648, 4710, 4772, 4835, 4895, 4959, 4999, 5036, 5096, 5155, 5216, 5276, 5336, 5368, 5457, 5517, 5553, 5580, 5641, 5703, 5764, 5826, 5889, 5951, 6012, 6073, 6135, 6196, 6258, 6319, 6380, 6442, 6503, 6565, 6626, 6688, 6750, 6813, 6874, 6935, 6997, 7058, 7120, 7181, 7242, 7303, 7365, 7427, 7487, 7549, 7611, 7674, 7735, 7798, 7860, 7923, 7985, 8047, 8109, 8172, 8234, 8296, 8357, 8419, 8481, 8543, 8604, 8665, 8727, 8788, 8850, 8911, 8972, 9034, 9096, 9157, 9219, 9281, 9343, 9406, 9468, 9530, 9591, 9641, 9689, 9750, 9813, 9875, 9937, 9998, 10060, 10121, 10183, 10244, 10281, 10349, 10428, 10490, 10551, 10612, 10674, 10735, 10797, 10858, 10920, 10982, 11044, 11105, 11165, 11227, 11289, 11351, 11411, 11471, 11532, 11594, 11655, 11716, 11777, 11839, 11901, 11962, 12023, 12085, 12147, 12209, 12270, 12331, 12393, 12454, 12516, 12576, 12636, 12697, 12758, 12818, 12878, 12939, 12999, 13060, 13121, 13181, 13242, 13303, 13364, 13424, 13483, 13543, 13603, 13664, 13723, 13783, 13843, 13904, 13965, 14024, 14085, 14145, 14205, 14266, 14325, 14385, 14445, 14505, 14564, 14624, 14684, 14743, 14803, 14863, 14922, 14982, 15042, 15102, 15161, 15220, 15280, 15340, 15399, 15458, 15518, 15578, 15639, 15699, 15760, 15820, 15881, 15942, 16002, 16063, 16124, 16186, 16246, 16306, 16367, 16427, 16488, 16547, 16608, 16668, 16728, 16787, 16846, 16906, 16967, 17027, 17087, 17146, 17207, 17267, 17328, 17388, 17448, 17509, 17569, 17630, 17690, 17750, 17811, 17872, 17932, 17993, 18053, 18114, 18175, 18235, 18295, 18355, 18416, 18475, 18534, 18593, 18652, 18712, 18769, 18828, 18887, 18946, 19004, 19063, 19121, 19180, 19239, 19298, 19357, 19417, 19478, 19539, 19599, 19659, 19720, 19782, 19843, 19903, 19964, 20025, 20086, 20147, 20206, 20267, 20327, 20388, 20447, 20506, 20566, 20625, 20686, 20745, 20804, 20865, 20922, 20933, 20963, 21041, 21099, 21159, 21218, 21278, 21337, 21395, 21455, 21515, 21574, 21633, 21693, 21753, 21814, 21873, 21933, 21994, 22055, 22116, 22177, 22238, 22300, 22362, 22424, 22485, 22547, 22609, 22672, 22733, 22785, 22843, 22891, 22953, 22999, 23054, 23115, 23177, 23237, 23298, 23352, 23421, 23458, 23484, 23543, 23604, 23657, 23702, 23763, 23826, 23881, 23930, 24042, 24100, 24158, 24213, 24272, 24330, 24390, 24448, 24507, 24566, 24625, 24684, 24743, 24802, 24861, 24900, 24918, 24980, 25038, 25098, 25157, 25217, 25275, 25336, 25394, 25433, 25453, 25512, 25570, 25629, 25691, 25748, 25807, 25869, 25919, 25987, 26047, 26106, 26166, 26226, 26286, 26345, 26404, 26452, 26498, 26553, 26595, 26615, 26675, 26734, 26793, 26853, 26913, 26973, 27033, 27094, 27155, 27216, 27277, 27338, 27399, 27460, 27520, 27581, 27641, 27700, 27760, 27820, 27879, 27938, 27998, 28059, 28118, 28178, 28238, 28298, 28358, 28418, 28478, 28538, 28597, 28657, 28716, 28776, 28836, 28895, 28955, 29015, 29075, 29135, 29168, 29197, 29258, 29328, 29390, 29450, 29512, 29574, 29636, 29697, 29759, 29821, 29883, 29944, 30005, 30067, 30128, 30189, 30251, 30313, 30374, 30435, 30497, 30558, 30619, 30681, 30741, 30804, 30865, 30926, 30987, 31049, 31110, 31171, 31233, 31295, 31357, 31419, 31477, 31518, 31579, 31640, 31702, 31764, 31826, 31887, 31936, 32011, 32054, 32073, 32136, 32197, 32259, 32322, 32384, 32445, 32507, 32568, 32630, 32691, 32752, 32813, 32875, 32936, 32997, 33058, 33119, 33180, 33241, 33303, 33365, 33426, 33489, 33550, 33612, 33674, 33736, 33798, 33860, 33922, 33984, 34047, 34109, 34171, 34233, 34296, 34357, 34420, 34482, 34544, 34606, 34668, 34730, 34792, 34854, 34915, 34977, 35039, 35102, 35163, 35225, 35287, 35350, 35411, 35473, 35536, 35598, 35659, 35721, 35783, 35845, 35907, 35969, 36031, 36094, 36156, 36217, 36279, 36341, 36403, 36462, 36522, 36583, 36644, 36706, 36767, 36829, 36890, 36952, 37014, 37075, 37137, 37199, 37261, 37323, 37385, 37447, 37508, 37572, 37632, 37696, 37758, 37819, 37873, 37915, 37945, 37978, 38006, 38041, 38068, 38127, 38191, 38251, 38313, 38363, 38411, 38472, 38533, 38594, 38656, 38716, 38777, 38838, 38899, 38960, 39020, 39082, 39143, 39205, 39265, 39327, 39377, 39425, 39485, 39546, 39608, 39669, 39731, 39792, 39853, 39915, 39977, 40039, 40100, 40162, 40224, 40286, 40346, 40408, 40470, 40532, 40593, 40654, 40716, 40777, 40839, 40900, 40962, 41025, 41087, 41149, 41211, 41273, 41336, 41399, 41461, 41524, 41586, 41649, 41711, 41774, 41836, 41899, 41962, 42024, 42087, 42149, 42213, 42275, 42337, 42399, 42462, 42524, 42586, 42648, 42711, 42774, 42835, 42897, 42959, 43021, 43083, 43144, 43205, 43267, 43329, 43389, 43450, 43512, 43573, 43635, 43695, 43758, 43819, 43880, 43940, 44002, 44064, 44125, 44187, 44248, 44310, 44372, 44433, 44494, 44556, 44617, 44676, 44737, 44798, 44859, 44921, 44981, 45043, 45106, 45168, 45229, 45290, 45352, 45413, 45475, 45536, 45597, 45658, 45720, 45780, 45842, 45903, 45965, 46026, 46087, 46148, 46209, 46267, 46331, 46392, 46453, 46514, 46575, 46635, 46696, 46757, 46818, 46879, 46940, 47001, 47063, 47124, 47185, 47247, 47309, 47370, 47432, 47493, 47554, 47616, 47678, 47723, 47799, 47862, 47922, 47978, 48040, 48100, 48156, 48217, 48259, 48271, 48334, 48394, 48454, 48514, 48573, 48633, 48693, 48753, 48813, 48873, 48933, 48993, 49054, 49114, 49175, 49236, 49298, 49360, 49421, 49482, 49544, 49606, 49656, 49704, 49765, 49827, 49889, 49950, 50013, 50075, 50138, 50200, 50261, 50324, 50386, 50448, 50510, 50572, 50634, 50697, 50758, 50820, 50883, 50946, 51008, 51071, 51134, 51196, 51259, 51320, 51383, 51444, 51506, 51566, 51626, 51686, 51746, 51807, 51867, 51928, 51989, 52049, 52109, 52170, 52230, 52291, 52351, 52411, 52472, 52532, 52593, 52653, 52713, 52774, 52835, 52895, 52956, 53017, 53078, 53139, 53199, 53260, 53321, 53383, 53442, 53502, 53563, 53624, 53684, 53744, 53805, 53867, 53926, 53986, 54046, 54106, 54166, 54227, 54287, 54348, 54408, 54469, 54529, 54590, 54651, 54713, 54774, 54835, 54897, 54959, 55021, 55082, 55144, 55206, 55269, 55331, 55393, 55455, 55518, 55580, 55642, 55704, 55767, 55830, 55891, 55953, 56015, 56077, 56138, 56199, 56261, 56322, 56383, 56443, 56504, 56564, 56625, 56685, 56745, 56805, 56866, 56926, 56986, 57048, 57109, 57171, 57232, 57294, 57356, 57417, 57478, 57540, 57602, 57663, 57725, 57786, 57848, 57909, 57971, 58031, 58092, 58153, 58214, 58276, 58335, 58396, 58458, 58519, 58580, 58642, 58704, 58765, 58826, 58887, 58949, 59011, 59072, 59133, 59194, 59256, 59317, 59378, 59439, 59500, 59560, 59622, 59681, 59742, 59802, 59863, 59925, 59984, 60045, 60106, 60168, 60228, 60286, 60349, 60411, 60472, 60534, 60596, 60658, 60719, 60780, 60841, 60903, 60964]\n"
     ]
    }
   ],
   "source": [
    "print(xmin)"
   ]
  },
  {
   "cell_type": "code",
   "execution_count": null,
   "metadata": {
    "scrolled": false
   },
   "outputs": [],
   "source": [
    "# Looking for values closest to zeros here (not working)\n",
    "# 1st Derivative \n",
    "dy = np.diff(ppg)\n",
    "dx = 1\n",
    "first = dy/dx\n",
    "\n",
    "z = np.Inf\n",
    "lookahead=1\n",
    "zs = []\n",
    "index = 0\n",
    "'''test = [2,-1,-2,1,3,5,10,-3,-2,0]\n",
    "for (x,y) in zip(np.arange(0,len(test))[:-lookahead], test[:-lookahead]):\n",
    "    if abs(y) < abs(z):\n",
    "        z = y\n",
    "        zpos = x\n",
    "    if abs(y) > abs(z) and z != np.Inf:\n",
    "        if abs(dy[index:index+lookahead]).min() > z:\n",
    "            zs.append([zpos,z])\n",
    "            z = np.Inf\n",
    "        if index+lookahead >= len(dy):\n",
    "            break\n",
    "        continue\n",
    "    index += 1\n",
    "\n",
    "    print(index)\n",
    "plt.plot(test)\n",
    "zpos = [k[0] for k in zs]\n",
    "z = [k[1] for k in zs]\n",
    "print(zs)\n",
    "plt.grid(True)\n",
    "plt.scatter(zpos,z)'''"
   ]
  },
  {
   "cell_type": "code",
   "execution_count": 9,
   "metadata": {},
   "outputs": [],
   "source": [
    "# Clean Class\n",
    "# Only detects the systolic peaks and the end of the period. Need to calculate the second derivative of the function in order\n",
    "# to get to the diastolic peaks and the dicrotic notch\n",
    "class PT_Detection: \n",
    "    \n",
    "    def __init__(self, data):\n",
    "        self.data = data\n",
    "        \n",
    "    # Detect the systolic/diastolic peaks and the dicrotic notch    \n",
    "    def detect(self):\n",
    "        max, min = peakdetect(self.data, np.arange(0,len(self.data)), lookahead=10)\n",
    "        xmax = [p[0] for p in max]\n",
    "        ymax = [p[1] for p in max]\n",
    "        xmin = [p[0] for p in min]\n",
    "        ymin = [p[1] for p in min]\n",
    "        return xmax, ymax, xmin, ymin\n",
    "        \n",
    "    def display(self, xmax, ymax, xmin, ymin):\n",
    "        plt.scatter(xmax,ymax)\n",
    "        plt.scatter(xmin,ymin)\n",
    "        plt.xlim(0,300)\n",
    "        plt.plot(self.data)"
   ]
  },
  {
   "cell_type": "code",
   "execution_count": 51,
   "metadata": {},
   "outputs": [],
   "source": [
    "\n",
    "if len(xmax) > len(xmin):\n",
    "    xmax = xmax[:-1]\n",
    "    ymax = ymax[:-1]\n",
    "\n",
    "# Peak to Peak\n",
    "p2p = np.diff(xmax)\n",
    "\n",
    "# Pulse Interval\n",
    "PI = np.diff(xmin)\n",
    "\n",
    "# Systolic Amplitude\n",
    "SA = np.array([])\n",
    "for max in range(len(ymax)):\n",
    "    difference = ymax[max] - ymin[max]\n",
    "    SA = np.append(SA, difference)\n",
    "    \n",
    "# Average Value between max and min ==> 50% value of the systolic amplitude\n",
    "Avg = np.array([])\n",
    "for avg in range(len(ymax)):\n",
    "    average = (ymax[max] + ymin[max]) / 2\n",
    "    Avg = np.append(Avg, average)\n",
    "    \n",
    "\n",
    "# Pulse Width - at 50% of the systolic amplitude, get the width of the PPG wave from that x value to the next end of the PPG\n",
    "# wave. \n",
    "# 1. Take the systolic amplitude and divide it by 50%, 2. Search through the first half of the PPG wave (before the systolic\n",
    "# peak) and find the x value that corresponds to that y value of 50% of the systolic amplitude. 3. Search through the second \n",
    "# half of the PPG wave and find the x value that corresponds to that same y value. 4. Take the difference in x positions in \n",
    "# order to get the 50% pulse width\n",
    "PW1 = np.array([])\n",
    "PW2 = np.array([])\n",
    "PW1x = np.array([])\n",
    "PW2x = np.array([])\n",
    "PW = np.array([])\n",
    "i, xval1, xval2 = 0, 0, 0\n",
    "for mid in Avg: # for each systolic amplitude -> for each PPG wavelength that there is\n",
    "    u_candidate = np.array([]) # candidates on the way up to the systolic peak\n",
    "    d_candidate = np.array([]) # candidates on the way down to the end of the wavelength\n",
    "    height = mid # Want 50% pulse width\n",
    "    if i >= len(xmin)-1:\n",
    "        break\n",
    "\n",
    "    for value in range(xmin[i], xmax[i]):\n",
    "        u_candidate = np.append(u_candidate, abs((ppg[value] - height)))\n",
    "\n",
    "    yval1 = ppg[xmin[i] + np.argmin(u_candidate)]\n",
    "    xval1 = xmin[i] + np.argmin(u_candidate)\n",
    "    PW1x = np.append(PW1x, xval1)\n",
    "    PW1 = np.append(PW1, yval1)\n",
    "    PW = np.append(PW, xval1)\n",
    "    for value in range(xmax[i], xmin[i+1]):\n",
    "        d_candidate = np.append(d_candidate, abs((ppg[value] - height)))\n",
    "    yval2 = ppg[xmax[i] + np.argmin(d_candidate)]\n",
    "    xval2 = xmax[i] + np.argmin(d_candidate)\n",
    "    PW2 = np.append(PW2, yval2)\n",
    "    PW2x = np.append(PW2x, xval2)\n",
    "    PW = np.append(PW, xval2)\n",
    "    \n",
    "    i += 1\n"
   ]
  },
  {
   "cell_type": "code",
   "execution_count": 52,
   "metadata": {},
   "outputs": [
    {
     "data": {
      "text/plain": [
       "[<matplotlib.lines.Line2D at 0x7f1a1c9b9ac8>]"
      ]
     },
     "execution_count": 52,
     "metadata": {},
     "output_type": "execute_result"
    },
    {
     "data": {
      "image/png": "[encoded data removed]",
      "text/plain": [
       "<matplotlib.figure.Figure at 0x7f1a1edb40b8>"
      ]
     },
     "metadata": {},
     "output_type": "display_data"
    }
   ],
   "source": [
    "plt.scatter(PW1x, PW1)\n",
    "plt.scatter(PW2x, PW2)\n",
    "plt.xlim(0,300)\n",
    "plt.plot(ppg)"
   ]
  },
  {
   "cell_type": "code",
   "execution_count": 32,
   "metadata": {},
   "outputs": [],
   "source": [
    "# Clean Feature Class\n",
    "class Features:\n",
    "    def __init__(self, data):\n",
    "        self.data = data\n",
    "        extrema = PT_Detection(data)\n",
    "        self.xmax, self.ymax, self.xmin, self.ymin = extrema.detect()\n",
    "        # Set up the indices to match up properly\n",
    "        if self.xmax[0] > self.xmin[0]:\n",
    "            self.xmin = self.xmin[1:]\n",
    "            self.ymin = self.ymin[1:]\n",
    "        if len(self.xmax) > len(self.xmin):\n",
    "            self.xmax = self.xmax[:-1]\n",
    "            self.ymax = self.ymax[:-1]\n",
    "        \n",
    "    def p2p(self):\n",
    "        return np.diff(xmax)\n",
    "    \n",
    "    def p_i(self):\n",
    "        return np.diff(xmin)\n",
    "    \n",
    "    def SA(self):\n",
    "        SA = np.array([])\n",
    "        for max in range(len(self.ymax)):\n",
    "            difference = self.ymax[max] - self.ymin[max]\n",
    "            SA = np.append(SA, difference)\n",
    "        return SA\n",
    "    \n",
    "    def pwidth(self):\n",
    "        PW1 = np.array([])\n",
    "        PW2 = np.array([])\n",
    "        PW1x = np.array([])\n",
    "        PW2x = np.array([])\n",
    "        PW = np.array([])\n",
    "        i, xval1, xval2 = 0, 0, 0\n",
    "        for mid in Avg: # for each systolic amplitude -> for each PPG wavelength that there is\n",
    "            u_candidate = np.array([]) # candidates on the way up to the systolic peak\n",
    "            d_candidate = np.array([]) # candidates on the way down to the end of the wavelength\n",
    "            height = mid # Want 50% pulse width\n",
    "            if i >= len(xmin)-1:\n",
    "                break\n",
    "\n",
    "            for value in range(self.xmin[i], self.xmax[i+1]):\n",
    "                u_candidate = np.append(u_candidate, abs((self.data[value] - height)))\n",
    "\n",
    "            yval1 = self.data[self.xmin[i] + np.argmin(u_candidate)]\n",
    "            xval1 = self.xmin[i] + np.argmin(u_candidate)\n",
    "            PW1x = np.append(PW1x, xval1)\n",
    "            PW1 = np.append(PW1, yval1)\n",
    "            PW = np.append(PW, xval1)\n",
    "\n",
    "            for value in range(self.xmax[i+1], self.xmin[i+1]):\n",
    "                d_candidate = np.append(d_candidate, abs((ppg[value] - height)))\n",
    "            yval2 = self.data[self.xmax[i+1] + np.argmin(d_candidate)]\n",
    "            xval2 = self.xmax[i+1] + np.argmin(d_candidate)\n",
    "            PW2 = np.append(PW2, yval2)\n",
    "            PW2x = np.append(PW2x, xval2)\n",
    "            PW = np.append(PW, xval2)\n",
    "            i += 1\n",
    "        return np.diff(PW)\n",
    "        "
   ]
  },
  {
   "cell_type": "code",
   "execution_count": null,
   "metadata": {},
   "outputs": [],
   "source": []
  }
 ],
 "metadata": {
  "kernelspec": {
   "display_name": "Python 3",
   "language": "python",
   "name": "python3"
  },
  "language_info": {
   "codemirror_mode": {
    "name": "ipython",
    "version": 3
   },
   "file_extension": ".py",
   "mimetype": "text/x-python",
   "name": "python",
   "nbconvert_exporter": "python",
   "pygments_lexer": "ipython3",
   "version": "3.6.9"
  }
 },
 "nbformat": 4,
 "nbformat_minor": 4
}
