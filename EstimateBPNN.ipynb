{
 "cells": [
  {
   "cell_type": "code",
   "execution_count": 233,
   "metadata": {},
   "outputs": [],
   "source": [
    "import pandas as pd\n",
    "import tensorflow as tf\n",
    "from tensorflow import keras\n",
    "import matplotlib.pyplot as plt\n",
    "import numpy as np\n",
    "from tensorflow.keras.layers import Dense, Input\n",
    "from tensorflow.keras.models import Model\n",
    "from keras.utils import plot_model\n",
    "from sklearn import preprocessing\n",
    "from sklearn.model_selection import train_test_split\n"
   ]
  },
  {
   "cell_type": "code",
   "execution_count": 252,
   "metadata": {
    "scrolled": true
   },
   "outputs": [
    {
     "data": {
      "text/html": [
       "<div>\n",
       "<style scoped>\n",
       "    .dataframe tbody tr th:only-of-type {\n",
       "        vertical-align: middle;\n",
       "    }\n",
       "\n",
       "    .dataframe tbody tr th {\n",
       "        vertical-align: top;\n",
       "    }\n",
       "\n",
       "    .dataframe thead th {\n",
       "        text-align: right;\n",
       "    }\n",
       "</style>\n",
       "<table border=\"1\" class=\"dataframe\">\n",
       "  <thead>\n",
       "    <tr style=\"text-align: right;\">\n",
       "      <th></th>\n",
       "      <th>SA</th>\n",
       "      <th>PW</th>\n",
       "      <th>PI</th>\n",
       "      <th>p2p</th>\n",
       "      <th>Systolic</th>\n",
       "      <th>Diastolic</th>\n",
       "    </tr>\n",
       "  </thead>\n",
       "  <tbody>\n",
       "    <tr>\n",
       "      <th>0</th>\n",
       "      <td>1.765396</td>\n",
       "      <td>23.0</td>\n",
       "      <td>63</td>\n",
       "      <td>62</td>\n",
       "      <td>123.038299</td>\n",
       "      <td>66.525670</td>\n",
       "    </tr>\n",
       "    <tr>\n",
       "      <th>1</th>\n",
       "      <td>1.754643</td>\n",
       "      <td>22.0</td>\n",
       "      <td>62</td>\n",
       "      <td>63</td>\n",
       "      <td>120.986846</td>\n",
       "      <td>65.597632</td>\n",
       "    </tr>\n",
       "    <tr>\n",
       "      <th>2</th>\n",
       "      <td>1.687195</td>\n",
       "      <td>21.0</td>\n",
       "      <td>62</td>\n",
       "      <td>61</td>\n",
       "      <td>118.349265</td>\n",
       "      <td>66.134917</td>\n",
       "    </tr>\n",
       "    <tr>\n",
       "      <th>3</th>\n",
       "      <td>1.663734</td>\n",
       "      <td>19.0</td>\n",
       "      <td>61</td>\n",
       "      <td>61</td>\n",
       "      <td>119.570367</td>\n",
       "      <td>66.134917</td>\n",
       "    </tr>\n",
       "    <tr>\n",
       "      <th>4</th>\n",
       "      <td>1.700880</td>\n",
       "      <td>23.0</td>\n",
       "      <td>62</td>\n",
       "      <td>63</td>\n",
       "      <td>122.354481</td>\n",
       "      <td>67.502552</td>\n",
       "    </tr>\n",
       "  </tbody>\n",
       "</table>\n",
       "</div>"
      ],
      "text/plain": [
       "         SA    PW  PI  p2p    Systolic  Diastolic\n",
       "0  1.765396  23.0  63   62  123.038299  66.525670\n",
       "1  1.754643  22.0  62   63  120.986846  65.597632\n",
       "2  1.687195  21.0  62   61  118.349265  66.134917\n",
       "3  1.663734  19.0  61   61  119.570367  66.134917\n",
       "4  1.700880  23.0  62   63  122.354481  67.502552"
      ]
     },
     "execution_count": 252,
     "metadata": {},
     "output_type": "execute_result"
    }
   ],
   "source": [
    "data = pd.read_csv('4features.csv')\n",
    "data.head()"
   ]
  },
  {
   "cell_type": "code",
   "execution_count": 241,
   "metadata": {},
   "outputs": [
    {
     "name": "stdout",
     "output_type": "stream",
     "text": [
      "Features: [ 1.76539589 23.         63.         62.         66.52567002], Target: 123.03829866216\n",
      "Features: [ 1.75464321 22.         62.         63.         65.59763204], Target: 120.98684628271944\n",
      "Features: [ 1.68719453 21.         62.         61.         66.13491718], Target: 118.3492646520102\n",
      "Features: [ 1.66373412 19.         61.         61.         66.13491718], Target: 119.57036725882004\n",
      "Features: [ 1.70087977 23.         62.         63.         67.5025521 ], Target: 122.35448120234648\n"
     ]
    }
   ],
   "source": [
    "target = data.pop('Systolic')\n",
    "dataset = tf.data.Dataset.from_tensor_slices((data.values, target.values))\n",
    "for feature, target in dataset.take(5):\n",
    "    print('Features: {}, Target: {}'.format(feature,target))"
   ]
  },
  {
   "cell_type": "code",
   "execution_count": 284,
   "metadata": {
    "scrolled": true
   },
   "outputs": [],
   "source": [
    "x = data.values[:,0:4]\n",
    "y = data.values[:,4:6]"
   ]
  },
  {
   "cell_type": "code",
   "execution_count": 285,
   "metadata": {},
   "outputs": [],
   "source": [
    "min_max_scaler = preprocessing.MinMaxScaler()\n",
    "x_scale = min_max_scaler.fit_transform(x)"
   ]
  },
  {
   "cell_type": "code",
   "execution_count": 286,
   "metadata": {},
   "outputs": [],
   "source": [
    "x_train, x_test, y_train, y_test = train_test_split(x_scale, y, test_size = 0.3)\n",
    "x_valid, x_test, y_valid, y_test = train_test_split(x_test, y_test, test_size = 0.5)"
   ]
  },
  {
   "cell_type": "code",
   "execution_count": 64,
   "metadata": {},
   "outputs": [],
   "source": [
    "#SA = tf.constant(data['SA'])\n",
    "#PW = tf.constant(data['PW'])\n",
    "#PI = tf.constant(data['PI'])\n",
    "#p2p = tf.constant(data['p2p'])"
   ]
  },
  {
   "cell_type": "code",
   "execution_count": 327,
   "metadata": {},
   "outputs": [
    {
     "name": "stdout",
     "output_type": "stream",
     "text": [
      "Model: \"functional_83\"\n",
      "_________________________________________________________________\n",
      "Layer (type)                 Output Shape              Param #   \n",
      "=================================================================\n",
      "Input (InputLayer)           [(None, 4)]               0         \n",
      "_________________________________________________________________\n",
      "Hidden (Dense)               (None, 15)                75        \n",
      "_________________________________________________________________\n",
      "Hidden1 (Dense)              (None, 15)                240       \n",
      "_________________________________________________________________\n",
      "Hidden2 (Dense)              (None, 10)                160       \n",
      "_________________________________________________________________\n",
      "Hidden3 (Dense)              (None, 4)                 44        \n",
      "_________________________________________________________________\n",
      "Output (Dense)               (None, 2)                 10        \n",
      "=================================================================\n",
      "Total params: 529\n",
      "Trainable params: 529\n",
      "Non-trainable params: 0\n",
      "_________________________________________________________________\n",
      "None\n"
     ]
    }
   ],
   "source": [
    "inputs = Input(shape=(4,), name='Input')\n",
    "hidden = Dense(15, name = 'Hidden')(inputs)\n",
    "hidden1 = Dense(15, name = 'Hidden1')(hidden)\n",
    "hidden2 = Dense(10, name ='Hidden2')(hidden1)\n",
    "hidden3 = Dense(4, name = 'Hidden3')(hidden2)\n",
    "output = Dense(2, name='Output')(hidden3)\n",
    "model = Model(inputs = inputs, outputs = output)\n",
    "print(model.summary())"
   ]
  },
  {
   "cell_type": "code",
   "execution_count": 329,
   "metadata": {},
   "outputs": [],
   "source": [
    "model.compile(optimizer=\"adam\", loss=\"mse\")"
   ]
  },
  {
   "cell_type": "code",
   "execution_count": 330,
   "metadata": {
    "scrolled": false
   },
   "outputs": [
    {
     "name": "stdout",
     "output_type": "stream",
     "text": [
      "Epoch 1/25\n",
      "710/710 [==============================] - 1s 2ms/step - loss: 1846.2593\n",
      "Epoch 2/25\n",
      "710/710 [==============================] - 1s 2ms/step - loss: 91.6904\n",
      "Epoch 3/25\n",
      "710/710 [==============================] - 1s 2ms/step - loss: 80.4568\n",
      "Epoch 4/25\n",
      "710/710 [==============================] - 1s 2ms/step - loss: 71.0870\n",
      "Epoch 5/25\n",
      "710/710 [==============================] - 1s 2ms/step - loss: 61.1239\n",
      "Epoch 6/25\n",
      "710/710 [==============================] - 1s 2ms/step - loss: 52.5713\n",
      "Epoch 7/25\n",
      "710/710 [==============================] - 1s 2ms/step - loss: 47.9418\n",
      "Epoch 8/25\n",
      "710/710 [==============================] - 1s 2ms/step - loss: 45.3615\n",
      "Epoch 9/25\n",
      "710/710 [==============================] - 1s 2ms/step - loss: 41.4384\n",
      "Epoch 10/25\n",
      "710/710 [==============================] - 1s 2ms/step - loss: 41.2487\n",
      "Epoch 11/25\n",
      "710/710 [==============================] - 1s 2ms/step - loss: 40.8941\n",
      "Epoch 12/25\n",
      "710/710 [==============================] - 1s 2ms/step - loss: 40.2585\n",
      "Epoch 13/25\n",
      "710/710 [==============================] - 1s 2ms/step - loss: 40.4585\n",
      "Epoch 14/25\n",
      "710/710 [==============================] - 1s 2ms/step - loss: 39.2087\n",
      "Epoch 15/25\n",
      "710/710 [==============================] - 1s 2ms/step - loss: 40.7745\n",
      "Epoch 16/25\n",
      "710/710 [==============================] - 1s 2ms/step - loss: 39.5566\n",
      "Epoch 17/25\n",
      "710/710 [==============================] - 1s 2ms/step - loss: 41.5279\n",
      "Epoch 18/25\n",
      "710/710 [==============================] - 1s 2ms/step - loss: 39.4777\n",
      "Epoch 19/25\n",
      "710/710 [==============================] - 1s 2ms/step - loss: 41.7927\n",
      "Epoch 20/25\n",
      "710/710 [==============================] - 1s 2ms/step - loss: 39.8654\n",
      "Epoch 21/25\n",
      "710/710 [==============================] - 1s 2ms/step - loss: 38.8662\n",
      "Epoch 22/25\n",
      "710/710 [==============================] - 1s 2ms/step - loss: 41.1455\n",
      "Epoch 23/25\n",
      "710/710 [==============================] - 1s 2ms/step - loss: 39.9024\n",
      "Epoch 24/25\n",
      "710/710 [==============================] - 1s 2ms/step - loss: 39.6105\n",
      "Epoch 25/25\n",
      "710/710 [==============================] - 1s 2ms/step - loss: 39.6327\n"
     ]
    },
    {
     "data": {
      "text/plain": [
       "<tensorflow.python.keras.callbacks.History at 0x7f1fc0318e80>"
      ]
     },
     "execution_count": 330,
     "metadata": {},
     "output_type": "execute_result"
    }
   ],
   "source": [
    "model.fit(x_train, y_train, batch_size = 1, epochs=25)"
   ]
  },
  {
   "cell_type": "code",
   "execution_count": 331,
   "metadata": {},
   "outputs": [
    {
     "name": "stdout",
     "output_type": "stream",
     "text": [
      "5/5 [==============================] - 0s 1ms/step - loss: 25.5613\n"
     ]
    },
    {
     "data": {
      "text/plain": [
       "25.561260223388672"
      ]
     },
     "execution_count": 331,
     "metadata": {},
     "output_type": "execute_result"
    }
   ],
   "source": [
    "model.evaluate(x_test, y_test)"
   ]
  },
  {
   "cell_type": "code",
   "execution_count": 299,
   "metadata": {},
   "outputs": [
    {
     "name": "stdout",
     "output_type": "stream",
     "text": [
      "[[133.2858    73.02    ]\n",
      " [133.20782   73.055504]\n",
      " [133.58028   73.23418 ]\n",
      " ...\n",
      " [133.1181    73.015625]\n",
      " [133.94589   73.4306  ]\n",
      " [133.32751   73.11831 ]]\n"
     ]
    }
   ],
   "source": [
    "predict = model.predict(x_train)\n",
    "print(predict)"
   ]
  },
  {
   "cell_type": "code",
   "execution_count": 292,
   "metadata": {},
   "outputs": [
    {
     "data": {
      "text/plain": [
       "array([[ 1.76539589, 23.        , 63.        , 62.        ],\n",
       "       [ 1.75464321, 22.        , 62.        , 63.        ],\n",
       "       [ 1.68719453, 21.        , 62.        , 61.        ],\n",
       "       ...,\n",
       "       [ 1.742913  , 22.        , 61.        , 62.        ],\n",
       "       [ 1.80351906, 23.        , 62.        , 61.        ],\n",
       "       [ 1.7771261 , 21.        , 61.        , 61.        ]])"
      ]
     },
     "execution_count": 292,
     "metadata": {},
     "output_type": "execute_result"
    }
   ],
   "source": [
    "x"
   ]
  },
  {
   "cell_type": "code",
   "execution_count": 293,
   "metadata": {},
   "outputs": [
    {
     "data": {
      "text/plain": [
       "array([[123.03829866,  66.52567002],\n",
       "       [120.98684628,  65.59763204],\n",
       "       [118.34926465,  66.13491718],\n",
       "       ...,\n",
       "       [132.51405489,  71.21470403],\n",
       "       [130.60913482,  73.1196241 ],\n",
       "       [132.12330206,  73.41268872]])"
      ]
     },
     "execution_count": 293,
     "metadata": {},
     "output_type": "execute_result"
    }
   ],
   "source": [
    "y"
   ]
  },
  {
   "cell_type": "code",
   "execution_count": null,
   "metadata": {},
   "outputs": [],
   "source": []
  }
 ],
 "metadata": {
  "kernelspec": {
   "display_name": "Python 3",
   "language": "python",
   "name": "python3"
  },
  "language_info": {
   "codemirror_mode": {
    "name": "ipython",
    "version": 3
   },
   "file_extension": ".py",
   "mimetype": "text/x-python",
   "name": "python",
   "nbconvert_exporter": "python",
   "pygments_lexer": "ipython3",
   "version": "3.6.9"
  }
 },
 "nbformat": 4,
 "nbformat_minor": 2
}
