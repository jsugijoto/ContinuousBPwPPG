{
 "cells": [
  {
   "cell_type": "code",
   "execution_count": 1,
   "metadata": {},
   "outputs": [
    {
     "name": "stderr",
     "output_type": "stream",
     "text": [
      "Using TensorFlow backend.\n"
     ]
    }
   ],
   "source": [
    "import pandas as pd\n",
    "import tensorflow as tf\n",
    "from tensorflow import keras\n",
    "import matplotlib.pyplot as plt\n",
    "import numpy as np\n",
    "from tensorflow.keras.layers import Dense, Input, Conv1D, MaxPooling1D, Flatten, Dropout\n",
    "from tensorflow.keras.models import Model, Sequential\n",
    "from keras.utils import plot_model\n",
    "from sklearn import preprocessing\n",
    "from sklearn.preprocessing import MinMaxScaler\n",
    "from sklearn.model_selection import train_test_split\n",
    "import mat73"
   ]
  },
  {
   "cell_type": "code",
   "execution_count": 9,
   "metadata": {},
   "outputs": [],
   "source": [
    "feat = pd.read_csv('5features.csv')"
   ]
  },
  {
   "cell_type": "code",
   "execution_count": 6,
   "metadata": {},
   "outputs": [],
   "source": [
    "#target = data.pop('Systolic')\n",
    "#target2 = data.pop('Diastolic')\n",
    "#dataset = tf.data.Dataset.from_tensor_slices((data.values, target.values))\n",
    "#for feature, target in dataset.take(5):\n",
    "    #print('Features: {}, Target: {}'.format(feature,target))"
   ]
  },
  {
   "cell_type": "code",
   "execution_count": 10,
   "metadata": {},
   "outputs": [],
   "source": [
    "x = feat.values[:,0:5]\n",
    "y = feat.values[:,5:]\n",
    "x_train, x_test, y_train, y_test = train_test_split(x, y, test_size = 0.3)\n",
    "x_valid, x_test, y_valid, y_test = train_test_split(x_test, y_test, test_size = 0.5)"
   ]
  },
  {
   "cell_type": "code",
   "execution_count": 11,
   "metadata": {},
   "outputs": [
    {
     "data": {
      "text/plain": [
       "(710, 2)"
      ]
     },
     "execution_count": 11,
     "metadata": {},
     "output_type": "execute_result"
    }
   ],
   "source": [
    "y_train.shape"
   ]
  },
  {
   "cell_type": "code",
   "execution_count": 12,
   "metadata": {
    "scrolled": true
   },
   "outputs": [
    {
     "name": "stdout",
     "output_type": "stream",
     "text": [
      "Model: \"functional_1\"\n",
      "_________________________________________________________________\n",
      "Layer (type)                 Output Shape              Param #   \n",
      "=================================================================\n",
      "Input (InputLayer)           [(None, 5)]               0         \n",
      "_________________________________________________________________\n",
      "Hidden (Dense)               (None, 20)                120       \n",
      "_________________________________________________________________\n",
      "Hidden1 (Dense)              (None, 45)                945       \n",
      "_________________________________________________________________\n",
      "Hidden2 (Dense)              (None, 60)                2760      \n",
      "_________________________________________________________________\n",
      "Hidden3 (Dense)              (None, 20)                1220      \n",
      "_________________________________________________________________\n",
      "Hidden4 (Dense)              (None, 5)                 105       \n",
      "_________________________________________________________________\n",
      "Output (Dense)               (None, 2)                 12        \n",
      "=================================================================\n",
      "Total params: 5,162\n",
      "Trainable params: 5,162\n",
      "Non-trainable params: 0\n",
      "_________________________________________________________________\n",
      "None\n"
     ]
    }
   ],
   "source": [
    "inputs = Input(shape=(5), name='Input')\n",
    "hidden = Dense(20, name = 'Hidden', activation='linear')(inputs)\n",
    "hidden1 = Dense(45, name = 'Hidden1', activation='relu')(hidden)\n",
    "hidden2 = Dense(60, name ='Hidden2', activation='linear')(hidden1)\n",
    "hidden3 = Dense(20, name = 'Hidden3', activation='relu')(hidden2)\n",
    "hidden4 = Dense(5, name = 'Hidden4', activation='relu')(hidden3)\n",
    "output = Dense(2, name='Output')(hidden4)\n",
    "model = Model(inputs = inputs, outputs = output)\n",
    "print(model.summary())"
   ]
  },
  {
   "cell_type": "code",
   "execution_count": null,
   "metadata": {},
   "outputs": [],
   "source": [
    "#model1 = Sequential()\n",
    "#model1.add(Conv1D(filters=64, kernel_size=3, activation='relu', input_shape=((x_train.shape[0],x_train.shape[1]))))\n",
    "#model1.add(Conv1D(filters=64, kernel_size=3, activation='relu'))"
   ]
  },
  {
   "cell_type": "code",
   "execution_count": null,
   "metadata": {},
   "outputs": [],
   "source": [
    "model.compile(optimizer=\"adam\", loss=\"mse\")"
   ]
  },
  {
   "cell_type": "code",
   "execution_count": null,
   "metadata": {
    "scrolled": true
   },
   "outputs": [],
   "source": [
    "model.fit(x_train, y_train, batch_size = 3, epochs=10)"
   ]
  },
  {
   "cell_type": "code",
   "execution_count": 56,
   "metadata": {},
   "outputs": [
    {
     "name": "stdout",
     "output_type": "stream",
     "text": [
      "5/5 [==============================] - 0s 1ms/step - loss: 107.3783\n"
     ]
    },
    {
     "data": {
      "text/plain": [
       "107.37828063964844"
      ]
     },
     "execution_count": 56,
     "metadata": {},
     "output_type": "execute_result"
    }
   ],
   "source": [
    "model.evaluate(x_test, y_test)"
   ]
  },
  {
   "cell_type": "code",
   "execution_count": 43,
   "metadata": {},
   "outputs": [
    {
     "name": "stdout",
     "output_type": "stream",
     "text": [
      "[[131.21742   71.50149 ]\n",
      " [ 95.87009   52.036213]\n",
      " [134.27281   73.14973 ]\n",
      " ...\n",
      " [133.4282    72.70058 ]\n",
      " [132.3035    72.06907 ]\n",
      " [130.35028   71.03007 ]]\n"
     ]
    }
   ],
   "source": [
    "predict = model.predict(x_train)\n",
    "print(predict)"
   ]
  },
  {
   "cell_type": "code",
   "execution_count": 17,
   "metadata": {},
   "outputs": [
    {
     "data": {
      "text/plain": [
       "array([[135.34701294,  75.21992058],\n",
       "       [130.56029072,  73.75459745],\n",
       "       [135.98198629,  74.78032364],\n",
       "       ...,\n",
       "       [130.95104355,  72.0450538 ],\n",
       "       [130.56029072,  71.60545686],\n",
       "       [124.06402485,  67.79561673]])"
      ]
     },
     "execution_count": 17,
     "metadata": {},
     "output_type": "execute_result"
    }
   ],
   "source": [
    "y_train"
   ]
  },
  {
   "cell_type": "code",
   "execution_count": 1,
   "metadata": {},
   "outputs": [],
   "source": [
    "# Another model, convolutional that will take the PPG signal, the first derivative, and the second derivative\n",
    "# First up is the PPG signal neural network \n",
    "# Use Conv1D then maxpooling layers 3 in a row at least"
   ]
  },
  {
   "cell_type": "code",
   "execution_count": 4,
   "metadata": {},
   "outputs": [],
   "source": [
    "# Extract PPG data into CSV files\n",
    "orig = mat73.loadmat(r'data/Part_1.mat')"
   ]
  },
  {
   "cell_type": "code",
   "execution_count": 5,
   "metadata": {},
   "outputs": [],
   "source": [
    "ppg = orig['Part_1'][0][0]\n",
    "abp = orig['Part_1'][0][1]"
   ]
  },
  {
   "cell_type": "code",
   "execution_count": 6,
   "metadata": {},
   "outputs": [
    {
     "data": {
      "text/plain": [
       "61000"
      ]
     },
     "execution_count": 6,
     "metadata": {},
     "output_type": "execute_result"
    }
   ],
   "source": [
    "len(ppg)\n",
    "len(abp)"
   ]
  },
  {
   "cell_type": "code",
   "execution_count": 7,
   "metadata": {},
   "outputs": [],
   "source": [
    "# Export the current feature list into CSV file # DONT RUN AGAIN ALREADY HAVE FILE\n",
    "df = pd.DataFrame({'y': ppg, 'ABP': abp})\n",
    "df.to_csv(\"smallPPG.csv\", index=True, index_label='x')"
   ]
  },
  {
   "cell_type": "code",
   "execution_count": 8,
   "metadata": {},
   "outputs": [
    {
     "data": {
      "text/plain": [
       "61000"
      ]
     },
     "execution_count": 8,
     "metadata": {},
     "output_type": "execute_result"
    }
   ],
   "source": [
    "# Read new CSV file with PPG and ABP\n",
    "data = pd.read_csv('smallPPG.csv')\n",
    "len(data)\n"
   ]
  },
  {
   "cell_type": "code",
   "execution_count": 9,
   "metadata": {},
   "outputs": [
    {
     "data": {
      "text/html": [
       "<div>\n",
       "<style scoped>\n",
       "    .dataframe tbody tr th:only-of-type {\n",
       "        vertical-align: middle;\n",
       "    }\n",
       "\n",
       "    .dataframe tbody tr th {\n",
       "        vertical-align: top;\n",
       "    }\n",
       "\n",
       "    .dataframe thead th {\n",
       "        text-align: right;\n",
       "    }\n",
       "</style>\n",
       "<table border=\"1\" class=\"dataframe\">\n",
       "  <thead>\n",
       "    <tr style=\"text-align: right;\">\n",
       "      <th></th>\n",
       "      <th>x</th>\n",
       "      <th>y</th>\n",
       "      <th>ABP</th>\n",
       "    </tr>\n",
       "  </thead>\n",
       "  <tbody>\n",
       "    <tr>\n",
       "      <th>0</th>\n",
       "      <td>0</td>\n",
       "      <td>1.759531</td>\n",
       "      <td>67.062955</td>\n",
       "    </tr>\n",
       "    <tr>\n",
       "      <th>1</th>\n",
       "      <td>1</td>\n",
       "      <td>1.718475</td>\n",
       "      <td>69.358628</td>\n",
       "    </tr>\n",
       "    <tr>\n",
       "      <th>2</th>\n",
       "      <td>2</td>\n",
       "      <td>1.684262</td>\n",
       "      <td>75.366453</td>\n",
       "    </tr>\n",
       "    <tr>\n",
       "      <th>3</th>\n",
       "      <td>3</td>\n",
       "      <td>1.657869</td>\n",
       "      <td>85.037586</td>\n",
       "    </tr>\n",
       "    <tr>\n",
       "      <th>4</th>\n",
       "      <td>4</td>\n",
       "      <td>1.637341</td>\n",
       "      <td>96.222885</td>\n",
       "    </tr>\n",
       "    <tr>\n",
       "      <th>...</th>\n",
       "      <td>...</td>\n",
       "      <td>...</td>\n",
       "      <td>...</td>\n",
       "    </tr>\n",
       "    <tr>\n",
       "      <th>60995</th>\n",
       "      <td>60995</td>\n",
       "      <td>1.771261</td>\n",
       "      <td>74.438415</td>\n",
       "    </tr>\n",
       "    <tr>\n",
       "      <th>60996</th>\n",
       "      <td>60996</td>\n",
       "      <td>1.700880</td>\n",
       "      <td>74.536103</td>\n",
       "    </tr>\n",
       "    <tr>\n",
       "      <th>60997</th>\n",
       "      <td>60997</td>\n",
       "      <td>1.644184</td>\n",
       "      <td>76.441023</td>\n",
       "    </tr>\n",
       "    <tr>\n",
       "      <th>60998</th>\n",
       "      <td>60998</td>\n",
       "      <td>1.600196</td>\n",
       "      <td>81.813875</td>\n",
       "    </tr>\n",
       "    <tr>\n",
       "      <th>60999</th>\n",
       "      <td>60999</td>\n",
       "      <td>1.565982</td>\n",
       "      <td>91.387319</td>\n",
       "    </tr>\n",
       "  </tbody>\n",
       "</table>\n",
       "<p>61000 rows × 3 columns</p>\n",
       "</div>"
      ],
      "text/plain": [
       "           x         y        ABP\n",
       "0          0  1.759531  67.062955\n",
       "1          1  1.718475  69.358628\n",
       "2          2  1.684262  75.366453\n",
       "3          3  1.657869  85.037586\n",
       "4          4  1.637341  96.222885\n",
       "...      ...       ...        ...\n",
       "60995  60995  1.771261  74.438415\n",
       "60996  60996  1.700880  74.536103\n",
       "60997  60997  1.644184  76.441023\n",
       "60998  60998  1.600196  81.813875\n",
       "60999  60999  1.565982  91.387319\n",
       "\n",
       "[61000 rows x 3 columns]"
      ]
     },
     "execution_count": 9,
     "metadata": {},
     "output_type": "execute_result"
    }
   ],
   "source": [
    "data"
   ]
  },
  {
   "cell_type": "code",
   "execution_count": 10,
   "metadata": {},
   "outputs": [
    {
     "data": {
      "text/plain": [
       "array([[0.00000000e+00, 4.39667807e-01, 1.53709462e-01],\n",
       "       [1.63937114e-05, 4.29408891e-01, 1.74589072e-01],\n",
       "       [3.27874227e-05, 4.20859795e-01, 2.29231453e-01],\n",
       "       ...,\n",
       "       [9.99967213e-01, 4.10845139e-01, 2.39004887e-01],\n",
       "       [9.99983606e-01, 3.99853444e-01, 2.87872057e-01],\n",
       "       [1.00000000e+00, 3.91304348e-01, 3.74944469e-01]])"
      ]
     },
     "execution_count": 10,
     "metadata": {},
     "output_type": "execute_result"
    }
   ],
   "source": [
    "Scaler = MinMaxScaler()\n",
    "Scaler.fit_transform(data)"
   ]
  },
  {
   "cell_type": "code",
   "execution_count": 37,
   "metadata": {},
   "outputs": [],
   "source": [
    "x1 = data.values[:,0:2]\n",
    "y1 = data.values[:,2:]\n",
    "x1 = np.expand_dims(x1, axis=2)\n",
    "\n",
    "x_train1, x_test1, y_train1, y_test1 = train_test_split(x1, y1, test_size = 0.3)\n",
    "x_valid1, x_test1, y_valid1, y_test1 = train_test_split(x_test1, y_test1, test_size = 0.5)"
   ]
  },
  {
   "cell_type": "code",
   "execution_count": 43,
   "metadata": {},
   "outputs": [
    {
     "data": {
      "text/plain": [
       "(42700, 1)"
      ]
     },
     "execution_count": 43,
     "metadata": {},
     "output_type": "execute_result"
    }
   ],
   "source": [
    "y_train1.shape"
   ]
  },
  {
   "cell_type": "code",
   "execution_count": 39,
   "metadata": {},
   "outputs": [],
   "source": [
    "n_timesteps, n_features, n_outputs = x_train1.shape[1], x_train1.shape[2], y_train1.shape[1]"
   ]
  },
  {
   "cell_type": "code",
   "execution_count": 40,
   "metadata": {
    "scrolled": true
   },
   "outputs": [
    {
     "name": "stdout",
     "output_type": "stream",
     "text": [
      "Model: \"functional_3\"\n",
      "_________________________________________________________________\n",
      "Layer (type)                 Output Shape              Param #   \n",
      "=================================================================\n",
      "Input (InputLayer)           [(None, 2, 1)]            0         \n",
      "_________________________________________________________________\n",
      "conv1d_3 (Conv1D)            (None, 2, 64)             128       \n",
      "_________________________________________________________________\n",
      "dropout_1 (Dropout)          (None, 2, 64)             0         \n",
      "_________________________________________________________________\n",
      "max_pooling1d_1 (MaxPooling1 (None, 1, 64)             0         \n",
      "_________________________________________________________________\n",
      "flatten_1 (Flatten)          (None, 64)                0         \n",
      "_________________________________________________________________\n",
      "dense_2 (Dense)              (None, 100)               6500      \n",
      "_________________________________________________________________\n",
      "dense_3 (Dense)              (None, 1)                 101       \n",
      "=================================================================\n",
      "Total params: 6,729\n",
      "Trainable params: 6,729\n",
      "Non-trainable params: 0\n",
      "_________________________________________________________________\n",
      "None\n"
     ]
    }
   ],
   "source": [
    "inputs = Input(shape=(n_timesteps, n_features), name='Input')\n",
    "conv1 = Conv1D(filters = 64, kernel_size = 1, activation = 'relu')(inputs)\n",
    "drop1 = Dropout(0.5)(conv1)\n",
    "pool1 = MaxPooling1D(pool_size = 2)(drop1)\n",
    "flat1 = Flatten()(pool1)\n",
    "dense1 = Dense(100, activation='relu')(flat1)\n",
    "output = Dense(n_outputs, activation='relu')(dense1)\n",
    "model = Model(inputs = inputs, outputs = output)\n",
    "print(model.summary())"
   ]
  },
  {
   "cell_type": "code",
   "execution_count": 41,
   "metadata": {},
   "outputs": [],
   "source": [
    "model.compile(optimizer=\"adam\", loss=\"mse\")"
   ]
  },
  {
   "cell_type": "code",
   "execution_count": 42,
   "metadata": {
    "scrolled": false
   },
   "outputs": [
    {
     "name": "stdout",
     "output_type": "stream",
     "text": [
      "Epoch 1/10\n",
      "42700/42700 [==============================] - 67s 2ms/step - loss: 9492.6865\n",
      "Epoch 2/10\n",
      "42700/42700 [==============================] - 68s 2ms/step - loss: 9379.0078\n",
      "Epoch 3/10\n",
      "42700/42700 [==============================] - 69s 2ms/step - loss: 9379.0645\n",
      "Epoch 4/10\n",
      "42700/42700 [==============================] - 69s 2ms/step - loss: 9379.0059\n",
      "Epoch 5/10\n",
      "42700/42700 [==============================] - 69s 2ms/step - loss: 9379.0566\n",
      "Epoch 6/10\n",
      "42700/42700 [==============================] - 69s 2ms/step - loss: 9379.0342\n",
      "Epoch 7/10\n",
      "42700/42700 [==============================] - 69s 2ms/step - loss: 9379.0342\n",
      "Epoch 8/10\n",
      "42700/42700 [==============================] - 69s 2ms/step - loss: 9378.9746\n",
      "Epoch 9/10\n",
      "42700/42700 [==============================] - 69s 2ms/step - loss: 9379.0010\n",
      "Epoch 10/10\n",
      "42700/42700 [==============================] - 69s 2ms/step - loss: 9379.0010\n"
     ]
    },
    {
     "data": {
      "text/plain": [
       "<tensorflow.python.keras.callbacks.History at 0x7fe6d4270b70>"
      ]
     },
     "execution_count": 42,
     "metadata": {},
     "output_type": "execute_result"
    }
   ],
   "source": [
    "model.fit(x_train1, y_train1, batch_size = 1, epochs=10)"
   ]
  },
  {
   "cell_type": "code",
   "execution_count": 33,
   "metadata": {},
   "outputs": [
    {
     "data": {
      "text/plain": [
       "60999"
      ]
     },
     "execution_count": 33,
     "metadata": {},
     "output_type": "execute_result"
    }
   ],
   "source": [
    "# Differentiate the PPG data (first derivative)\n",
    "dy = np.diff(ppg)\n",
    "len(dy)"
   ]
  },
  {
   "cell_type": "code",
   "execution_count": 34,
   "metadata": {},
   "outputs": [],
   "source": [
    "# Differentiatea the PPG data again (second derivative)\n",
    "dyy = np.diff(dy)"
   ]
  },
  {
   "cell_type": "code",
   "execution_count": 36,
   "metadata": {},
   "outputs": [
    {
     "data": {
      "text/plain": [
       "(42700, 2)"
      ]
     },
     "execution_count": 36,
     "metadata": {},
     "output_type": "execute_result"
    }
   ],
   "source": [
    "x_train1.shape"
   ]
  },
  {
   "cell_type": "code",
   "execution_count": 3,
   "metadata": {},
   "outputs": [],
   "source": [
    "ppg_window = np.load('ppg_windows.npy')"
   ]
  },
  {
   "cell_type": "code",
   "execution_count": 4,
   "metadata": {},
   "outputs": [],
   "source": [
    "sbp = np.load('sbp.npy')\n",
    "dbp = np.load('dbp.npy')"
   ]
  },
  {
   "cell_type": "code",
   "execution_count": 5,
   "metadata": {},
   "outputs": [
    {
     "data": {
      "text/plain": [
       "array([122.01257247, 120.96242423, 120.88915807, 125.18743925,\n",
       "       123.18483097, 125.23628335, 126.2864316 , 124.60131   ,\n",
       "       126.40854186, 126.3352757 , 122.67196788, 122.06141658,\n",
       "       122.06141658, 121.67066374, 125.43165977, 124.35708948,\n",
       "       127.89828704, 129.2414999 , 128.38672808, 131.31737434,\n",
       "       125.33397156, 125.92010081, 130.07184968, 125.43165977,\n",
       "       129.55898658, 129.09496759, 125.43165977, 126.21316544,\n",
       "       128.14250756, 128.28903987, 130.85335535, 126.3841198 ,\n",
       "       126.67718443, 126.50623007, 125.48050388, 129.82762916,\n",
       "       126.67718443, 128.80190297, 129.29034401, 127.97155319,\n",
       "       130.3160702 , 129.46129837, 127.75175472, 128.21577372,\n",
       "       127.28773573, 124.40593358, 127.99597525, 125.13859515,\n",
       "       129.09496759, 129.8032071 , 128.28903987, 130.65797893,\n",
       "       128.5821045 , 125.55377003, 127.40984599, 126.79929469,\n",
       "       124.57688795, 127.09235932, 123.08714277, 124.45477769,\n",
       "       126.01778902, 123.89307049, 125.67588029, 128.82632502,\n",
       "       126.3352757 , 128.94843528, 126.04221107, 128.21577372,\n",
       "       126.35969775, 122.3544812 , 124.33266743, 123.91749254,\n",
       "       122.81850019, 127.55637831, 125.65145824, 129.21707785,\n",
       "       128.87516912, 126.57949622, 127.48311215, 126.31085365,\n",
       "       123.89307049, 126.2864316 , 126.11547723, 126.18874339,\n",
       "       130.65797893, 129.31476606, 129.58340863, 130.29164815,\n",
       "       125.65145824, 126.62834033, 127.01909316, 125.48050388,\n",
       "       129.07054554, 130.12069378, 129.11938964, 132.34310053,\n",
       "       131.4394846 , 130.02300557, 129.68109684, 124.35708948,\n",
       "       122.72081198, 123.33136329, 120.71820371, 123.77096023,\n",
       "       129.33918811, 128.43557218, 132.78269746, 132.83154157,\n",
       "       129.68109684, 130.75566714, 127.87386499, 125.55377003,\n",
       "       128.70421476, 125.96894492, 128.43557218, 128.92401323,\n",
       "       124.81296778, 130.53586867, 128.97285733, 131.78139333,\n",
       "       133.68631339, 129.77878505, 130.65797893, 130.14511583,\n",
       "       124.52804384, 126.65276238, 127.23889163, 125.28512746,\n",
       "       117.90966771, 121.71950785, 118.98423801, 119.03308211,\n",
       "       119.59478931, 136.95886838, 134.76088369, 138.64398998,\n",
       "       142.55151832, 140.50006594, 140.65473894, 140.54891004,\n",
       "       142.9178491 , 142.42940806, 140.93966288, 141.25714956,\n",
       "       136.6413817 , 135.71334372, 138.17997099, 139.47433975,\n",
       "       140.30468952, 144.94487943, 144.13895171, 140.98850698,\n",
       "       144.01684145, 144.30990607, 142.01423317, 140.79313057,\n",
       "       141.62348034, 140.81755262, 141.11061724, 142.23403164,\n",
       "       150.68406168, 142.69805063, 142.96669321, 142.67362858,\n",
       "       140.15815721, 139.91393669, 138.61956793, 137.39846532,\n",
       "       140.20700131, 139.62087206, 140.91524083, 140.25584542,\n",
       "       139.08358692, 140.13373516, 138.91263255, 139.4499177 ,\n",
       "       138.22881509, 136.42158323, 132.53847694, 133.00249593,\n",
       "       134.73646164, 134.88299395, 137.59384174, 139.40107359,\n",
       "       138.91263255, 139.62087206, 140.40237773, 138.08228278,\n",
       "       139.01032076, 137.22751095, 136.47042734, 138.22881509,\n",
       "       137.83806226, 136.91002428, 138.64398998, 138.00901662,\n",
       "       135.66449962, 135.64007756, 137.25193301, 134.37013085,\n",
       "       134.76088369, 134.8585719 , 134.00380007, 136.66580375,\n",
       "       137.37404327, 136.42158323, 137.22751095, 137.37404327,\n",
       "       136.91002428, 139.54760591, 135.15163652, 132.0011918 ,\n",
       "       130.75566714, 128.85074707, 128.99727938, 132.07445795,\n",
       "       131.58601691, 133.19787235, 134.79344642, 135.66449962,\n",
       "       135.4691232 , 135.64007756, 134.51666317, 133.27113851,\n",
       "       134.37013085, 133.46651492, 135.83545398, 136.66580375,\n",
       "       135.27374678, 135.95756424, 136.95886838, 135.61565551,\n",
       "       136.12851861, 134.51666317, 132.31867847, 134.27244264,\n",
       "       133.7351575 , 131.97676974, 133.05134004, 132.78269746,\n",
       "       132.70943131, 136.56811555, 137.52057558, 135.64007756,\n",
       "       135.98198629, 132.0500359 , 130.80451124, 131.14641997,\n",
       "       131.58601691, 131.4883287 , 130.3649143 , 130.3649143 ,\n",
       "       128.99727938, 131.51275075, 133.93053391, 133.1734503 ,\n",
       "       133.97937802, 133.88168981, 133.90611186, 135.24932473,\n",
       "       136.37273913, 134.80972779, 137.27635506, 134.58992932,\n",
       "       136.22620682, 138.91263255, 135.5179673 , 133.46651492,\n",
       "       134.32128675, 133.49093698, 135.95756424, 137.47173147,\n",
       "       135.83545398, 136.86118017, 135.85987603, 115.4186184 ,\n",
       "       136.81233607, 137.93575047, 136.37273913, 137.52057558,\n",
       "       137.00771248, 136.20178476, 136.32389502, 134.66319548,\n",
       "       129.97416147, 132.92922978, 133.00249593, 133.95495597,\n",
       "       135.83545398, 134.8585719 , 134.61435137, 138.13112688,\n",
       "       137.88690636, 136.88560222, 138.39976946, 137.74037405,\n",
       "       135.27374678, 133.71073545, 133.51535903, 131.85465948,\n",
       "       136.05525245, 136.86118017, 136.91002428, 140.13373516,\n",
       "       139.69413822, 137.34962121, 138.76610024, 135.83545398,\n",
       "       132.41636668, 132.63616515, 130.38933636, 130.56029072,\n",
       "       132.88038567, 133.58862518, 133.27113851, 139.08358692,\n",
       "       137.54499763, 135.00510421, 134.54108522, 134.2968647 ,\n",
       "       131.75697127, 133.53978108, 134.9562601 , 135.15163652,\n",
       "       136.12851861, 135.20048063, 133.75957955, 135.32259089,\n",
       "       133.53978108, 133.36882672, 135.85987603, 135.4202791 ,\n",
       "       136.61695965, 136.91002428, 133.95495597, 131.34179639,\n",
       "       132.92922978, 133.39324877])"
      ]
     },
     "execution_count": 5,
     "metadata": {},
     "output_type": "execute_result"
    }
   ],
   "source": [
    "sbp"
   ]
  },
  {
   "cell_type": "code",
   "execution_count": 14,
   "metadata": {},
   "outputs": [],
   "source": [
    "x2 = ppg_window\n",
    "y2 = sbp\n",
    "x2 = np.expand_dims(x2, axis=2)\n",
    "y2 = np.expand_dims(y2, axis=1)\n",
    "\n",
    "x_train2, x_test2, y_train2, y_test2 = train_test_split(x2, y2, test_size = 0.3)\n",
    "x_valid2, x_test2, y_valid2, y_test2 = train_test_split(x_test2, y_test2, test_size = 0.5)"
   ]
  },
  {
   "cell_type": "code",
   "execution_count": 15,
   "metadata": {},
   "outputs": [
    {
     "data": {
      "text/plain": [
       "(236, 1)"
      ]
     },
     "execution_count": 15,
     "metadata": {},
     "output_type": "execute_result"
    }
   ],
   "source": [
    "np.shape(y_train2)"
   ]
  },
  {
   "cell_type": "code",
   "execution_count": 16,
   "metadata": {},
   "outputs": [],
   "source": [
    "n_timesteps, n_features, n_outputs = x_train2.shape[1], x_train2.shape[2], y_train2.shape[1]"
   ]
  },
  {
   "cell_type": "code",
   "execution_count": 18,
   "metadata": {},
   "outputs": [
    {
     "name": "stdout",
     "output_type": "stream",
     "text": [
      "Model: \"functional_3\"\n",
      "_________________________________________________________________\n",
      "Layer (type)                 Output Shape              Param #   \n",
      "=================================================================\n",
      "Input (InputLayer)           [(None, 180, 1)]          0         \n",
      "_________________________________________________________________\n",
      "conv1d_1 (Conv1D)            (None, 180, 64)           128       \n",
      "_________________________________________________________________\n",
      "dropout_1 (Dropout)          (None, 180, 64)           0         \n",
      "_________________________________________________________________\n",
      "max_pooling1d_1 (MaxPooling1 (None, 90, 64)            0         \n",
      "_________________________________________________________________\n",
      "flatten_1 (Flatten)          (None, 5760)              0         \n",
      "_________________________________________________________________\n",
      "dense_2 (Dense)              (None, 100)               576100    \n",
      "_________________________________________________________________\n",
      "dense_3 (Dense)              (None, 1)                 101       \n",
      "=================================================================\n",
      "Total params: 576,329\n",
      "Trainable params: 576,329\n",
      "Non-trainable params: 0\n",
      "_________________________________________________________________\n",
      "None\n"
     ]
    }
   ],
   "source": [
    "inputs = Input(shape=(n_timesteps, n_features), name='Input')\n",
    "conv1 = Conv1D(filters = 64, kernel_size = 1, activation = 'relu')(inputs)\n",
    "drop1 = Dropout(0.5)(conv1)\n",
    "pool1 = MaxPooling1D(pool_size = 2)(drop1)\n",
    "flat1 = Flatten()(pool1)\n",
    "dense1 = Dense(100, activation='relu')(flat1)\n",
    "output = Dense(n_outputs, activation='relu')(dense1)\n",
    "window = Model(inputs = inputs, outputs = output)\n",
    "print(window.summary())"
   ]
  },
  {
   "cell_type": "code",
   "execution_count": 27,
   "metadata": {
    "scrolled": true
   },
   "outputs": [
    {
     "name": "stdout",
     "output_type": "stream",
     "text": [
      "Epoch 1/10\n",
      "236/236 [==============================] - 1s 3ms/step - loss: 98.9247\n",
      "Epoch 2/10\n",
      "236/236 [==============================] - 1s 3ms/step - loss: 89.8262\n",
      "Epoch 3/10\n",
      "236/236 [==============================] - 1s 3ms/step - loss: 77.3451\n",
      "Epoch 4/10\n",
      "236/236 [==============================] - 1s 3ms/step - loss: 86.0157\n",
      "Epoch 5/10\n",
      "236/236 [==============================] - 1s 3ms/step - loss: 75.2363\n",
      "Epoch 6/10\n",
      "236/236 [==============================] - 1s 3ms/step - loss: 76.5552\n",
      "Epoch 7/10\n",
      "236/236 [==============================] - 1s 3ms/step - loss: 92.2395\n",
      "Epoch 8/10\n",
      "236/236 [==============================] - 1s 3ms/step - loss: 74.1273\n",
      "Epoch 9/10\n",
      "236/236 [==============================] - 1s 3ms/step - loss: 91.1290\n",
      "Epoch 10/10\n",
      "236/236 [==============================] - 1s 3ms/step - loss: 78.9177\n"
     ]
    },
    {
     "data": {
      "text/plain": [
       "<tensorflow.python.keras.callbacks.History at 0x7f55382561d0>"
      ]
     },
     "execution_count": 27,
     "metadata": {},
     "output_type": "execute_result"
    }
   ],
   "source": [
    "window.compile(optimizer=\"adam\", loss=\"mse\")\n",
    "window.fit(x_train2, y_train2, batch_size = 1, epochs=10)"
   ]
  },
  {
   "cell_type": "code",
   "execution_count": 21,
   "metadata": {},
   "outputs": [],
   "source": [
    "x3 = ppg_window\n",
    "y3 = dbp\n",
    "x3 = np.expand_dims(x3, axis=2)\n",
    "y3 = np.expand_dims(y3, axis=1)\n",
    "\n",
    "x_train3, x_test3, y_train3, y_test3 = train_test_split(x3, y3, test_size = 0.3)\n",
    "x_valid3, x_test3, y_valid3, y_test3 = train_test_split(x_test3, y_test3, test_size = 0.5)"
   ]
  },
  {
   "cell_type": "code",
   "execution_count": 22,
   "metadata": {},
   "outputs": [],
   "source": [
    "n_timesteps, n_features, n_outputs = x_train2.shape[1], x_train2.shape[2], y_train2.shape[1]"
   ]
  },
  {
   "cell_type": "code",
   "execution_count": 23,
   "metadata": {},
   "outputs": [
    {
     "name": "stdout",
     "output_type": "stream",
     "text": [
      "Model: \"functional_3\"\n",
      "_________________________________________________________________\n",
      "Layer (type)                 Output Shape              Param #   \n",
      "=================================================================\n",
      "Input (InputLayer)           [(None, 180, 1)]          0         \n",
      "_________________________________________________________________\n",
      "conv1d_1 (Conv1D)            (None, 180, 64)           128       \n",
      "_________________________________________________________________\n",
      "dropout_1 (Dropout)          (None, 180, 64)           0         \n",
      "_________________________________________________________________\n",
      "max_pooling1d_1 (MaxPooling1 (None, 90, 64)            0         \n",
      "_________________________________________________________________\n",
      "flatten_1 (Flatten)          (None, 5760)              0         \n",
      "_________________________________________________________________\n",
      "dense_2 (Dense)              (None, 100)               576100    \n",
      "_________________________________________________________________\n",
      "dense_3 (Dense)              (None, 1)                 101       \n",
      "=================================================================\n",
      "Total params: 576,329\n",
      "Trainable params: 576,329\n",
      "Non-trainable params: 0\n",
      "_________________________________________________________________\n",
      "None\n"
     ]
    }
   ],
   "source": [
    "inputs = Input(shape=(n_timesteps, n_features), name='Input')\n",
    "conv1 = Conv1D(filters = 64, kernel_size = 1, activation = 'relu')(inputs)\n",
    "drop1 = Dropout(0.5)(conv1)\n",
    "pool1 = MaxPooling1D(pool_size = 2)(drop1)\n",
    "flat1 = Flatten()(pool1)\n",
    "dense1 = Dense(100, activation='relu')(flat1)\n",
    "output = Dense(n_outputs, activation='relu')(dense1)\n",
    "window2 = Model(inputs = inputs, outputs = output)\n",
    "print(window.summary())"
   ]
  },
  {
   "cell_type": "code",
   "execution_count": 26,
   "metadata": {},
   "outputs": [
    {
     "name": "stdout",
     "output_type": "stream",
     "text": [
      "Epoch 1/100\n",
      "236/236 [==============================] - 1s 3ms/step - loss: 35.7722\n",
      "Epoch 2/100\n",
      "236/236 [==============================] - 1s 3ms/step - loss: 33.9273\n",
      "Epoch 3/100\n",
      "236/236 [==============================] - 1s 3ms/step - loss: 32.8852\n",
      "Epoch 4/100\n",
      "236/236 [==============================] - 1s 3ms/step - loss: 29.3792\n",
      "Epoch 5/100\n",
      "236/236 [==============================] - 1s 3ms/step - loss: 29.0187\n",
      "Epoch 6/100\n",
      "236/236 [==============================] - 1s 3ms/step - loss: 26.8564\n",
      "Epoch 7/100\n",
      "236/236 [==============================] - 1s 3ms/step - loss: 30.1036\n",
      "Epoch 8/100\n",
      "236/236 [==============================] - 1s 3ms/step - loss: 30.1050\n",
      "Epoch 9/100\n",
      "236/236 [==============================] - 1s 3ms/step - loss: 24.1083\n",
      "Epoch 10/100\n",
      "236/236 [==============================] - 1s 3ms/step - loss: 24.2886\n",
      "Epoch 11/100\n",
      "236/236 [==============================] - 1s 3ms/step - loss: 27.2098\n",
      "Epoch 12/100\n",
      "236/236 [==============================] - 1s 3ms/step - loss: 19.7251\n",
      "Epoch 13/100\n",
      "236/236 [==============================] - 1s 3ms/step - loss: 22.2139\n",
      "Epoch 14/100\n",
      "236/236 [==============================] - 1s 3ms/step - loss: 25.1769\n",
      "Epoch 15/100\n",
      "236/236 [==============================] - 1s 3ms/step - loss: 20.3367\n",
      "Epoch 16/100\n",
      "236/236 [==============================] - 1s 3ms/step - loss: 23.6713\n",
      "Epoch 17/100\n",
      "236/236 [==============================] - 1s 3ms/step - loss: 20.2976\n",
      "Epoch 18/100\n",
      "236/236 [==============================] - 1s 3ms/step - loss: 23.2740\n",
      "Epoch 19/100\n",
      "236/236 [==============================] - 1s 3ms/step - loss: 21.8903\n",
      "Epoch 20/100\n",
      "236/236 [==============================] - 1s 3ms/step - loss: 20.1296\n",
      "Epoch 21/100\n",
      "236/236 [==============================] - 1s 3ms/step - loss: 22.0489\n",
      "Epoch 22/100\n",
      "236/236 [==============================] - 1s 3ms/step - loss: 19.5994\n",
      "Epoch 23/100\n",
      "236/236 [==============================] - 1s 3ms/step - loss: 19.7160\n",
      "Epoch 24/100\n",
      "236/236 [==============================] - 1s 3ms/step - loss: 17.6886\n",
      "Epoch 25/100\n",
      "236/236 [==============================] - 1s 3ms/step - loss: 21.0282\n",
      "Epoch 26/100\n",
      "236/236 [==============================] - 1s 3ms/step - loss: 18.5539\n",
      "Epoch 27/100\n",
      "236/236 [==============================] - 1s 3ms/step - loss: 19.7037\n",
      "Epoch 28/100\n",
      "236/236 [==============================] - 1s 3ms/step - loss: 18.1996\n",
      "Epoch 29/100\n",
      "236/236 [==============================] - 1s 3ms/step - loss: 19.1031\n",
      "Epoch 30/100\n",
      "236/236 [==============================] - 1s 3ms/step - loss: 17.8574\n",
      "Epoch 31/100\n",
      "236/236 [==============================] - 1s 3ms/step - loss: 17.7759\n",
      "Epoch 32/100\n",
      "236/236 [==============================] - 1s 3ms/step - loss: 17.7155\n",
      "Epoch 33/100\n",
      "236/236 [==============================] - 1s 3ms/step - loss: 16.9740\n",
      "Epoch 34/100\n",
      "236/236 [==============================] - 1s 3ms/step - loss: 20.3725\n",
      "Epoch 35/100\n",
      "236/236 [==============================] - 1s 3ms/step - loss: 19.5191\n",
      "Epoch 36/100\n",
      "236/236 [==============================] - 1s 3ms/step - loss: 19.8805\n",
      "Epoch 37/100\n",
      "236/236 [==============================] - 1s 3ms/step - loss: 18.1848\n",
      "Epoch 38/100\n",
      "236/236 [==============================] - 1s 3ms/step - loss: 16.2947\n",
      "Epoch 39/100\n",
      "236/236 [==============================] - 1s 3ms/step - loss: 23.5617\n",
      "Epoch 40/100\n",
      "236/236 [==============================] - 1s 3ms/step - loss: 18.9282\n",
      "Epoch 41/100\n",
      "236/236 [==============================] - 1s 3ms/step - loss: 17.8583\n",
      "Epoch 42/100\n",
      "236/236 [==============================] - 1s 3ms/step - loss: 17.2712\n",
      "Epoch 43/100\n",
      "236/236 [==============================] - 1s 3ms/step - loss: 16.9878\n",
      "Epoch 44/100\n",
      "236/236 [==============================] - 1s 3ms/step - loss: 16.7454\n",
      "Epoch 45/100\n",
      "236/236 [==============================] - 1s 3ms/step - loss: 15.9108\n",
      "Epoch 46/100\n",
      "236/236 [==============================] - 1s 3ms/step - loss: 16.1427\n",
      "Epoch 47/100\n",
      "236/236 [==============================] - 1s 3ms/step - loss: 18.8216\n",
      "Epoch 48/100\n",
      "236/236 [==============================] - 1s 3ms/step - loss: 17.5147\n",
      "Epoch 49/100\n",
      "236/236 [==============================] - 1s 3ms/step - loss: 17.8440\n",
      "Epoch 50/100\n",
      "236/236 [==============================] - 1s 3ms/step - loss: 17.0580\n",
      "Epoch 51/100\n",
      "236/236 [==============================] - 1s 3ms/step - loss: 14.9569\n",
      "Epoch 52/100\n",
      "236/236 [==============================] - 1s 3ms/step - loss: 17.6724\n",
      "Epoch 53/100\n",
      "236/236 [==============================] - 1s 3ms/step - loss: 16.8948\n",
      "Epoch 54/100\n",
      "236/236 [==============================] - 1s 3ms/step - loss: 15.7830\n",
      "Epoch 55/100\n",
      "236/236 [==============================] - 1s 3ms/step - loss: 20.6442\n",
      "Epoch 56/100\n",
      "236/236 [==============================] - 1s 3ms/step - loss: 16.9166\n",
      "Epoch 57/100\n",
      "236/236 [==============================] - 1s 3ms/step - loss: 14.2041\n",
      "Epoch 58/100\n",
      "236/236 [==============================] - 1s 3ms/step - loss: 14.2818\n",
      "Epoch 59/100\n",
      "236/236 [==============================] - 1s 3ms/step - loss: 17.1326\n",
      "Epoch 60/100\n",
      "236/236 [==============================] - 1s 3ms/step - loss: 15.2999\n",
      "Epoch 61/100\n",
      "236/236 [==============================] - 1s 3ms/step - loss: 18.1057\n",
      "Epoch 62/100\n",
      "236/236 [==============================] - 1s 3ms/step - loss: 17.8863\n",
      "Epoch 63/100\n",
      "236/236 [==============================] - 1s 3ms/step - loss: 17.1238\n",
      "Epoch 64/100\n",
      "236/236 [==============================] - 1s 3ms/step - loss: 15.8356\n",
      "Epoch 65/100\n",
      "236/236 [==============================] - 1s 3ms/step - loss: 18.3987\n",
      "Epoch 66/100\n",
      "236/236 [==============================] - 1s 3ms/step - loss: 16.4115\n",
      "Epoch 67/100\n",
      "236/236 [==============================] - 1s 3ms/step - loss: 19.9984\n",
      "Epoch 68/100\n",
      "236/236 [==============================] - 1s 3ms/step - loss: 16.8888\n",
      "Epoch 69/100\n",
      "236/236 [==============================] - 1s 3ms/step - loss: 15.6199\n",
      "Epoch 70/100\n",
      "236/236 [==============================] - 1s 3ms/step - loss: 15.2446\n",
      "Epoch 71/100\n",
      "236/236 [==============================] - 1s 3ms/step - loss: 16.0988\n",
      "Epoch 72/100\n",
      "236/236 [==============================] - 1s 3ms/step - loss: 17.6572\n",
      "Epoch 73/100\n",
      "236/236 [==============================] - 1s 3ms/step - loss: 17.6508\n",
      "Epoch 74/100\n",
      "236/236 [==============================] - 1s 3ms/step - loss: 15.4343\n",
      "Epoch 75/100\n",
      "236/236 [==============================] - 1s 3ms/step - loss: 17.1850\n",
      "Epoch 76/100\n",
      "236/236 [==============================] - 1s 3ms/step - loss: 17.8497\n",
      "Epoch 77/100\n",
      "236/236 [==============================] - 1s 3ms/step - loss: 18.6503\n",
      "Epoch 78/100\n",
      "236/236 [==============================] - 1s 3ms/step - loss: 17.5573\n",
      "Epoch 79/100\n",
      "236/236 [==============================] - 1s 3ms/step - loss: 15.5172\n",
      "Epoch 80/100\n",
      "236/236 [==============================] - 1s 3ms/step - loss: 17.9261\n",
      "Epoch 81/100\n",
      "236/236 [==============================] - 1s 3ms/step - loss: 16.3551\n",
      "Epoch 82/100\n",
      "236/236 [==============================] - 1s 3ms/step - loss: 16.1393\n",
      "Epoch 83/100\n",
      "236/236 [==============================] - 1s 3ms/step - loss: 13.9423\n",
      "Epoch 84/100\n",
      "236/236 [==============================] - 1s 3ms/step - loss: 15.5703\n",
      "Epoch 85/100\n",
      "236/236 [==============================] - 1s 3ms/step - loss: 14.5622\n",
      "Epoch 86/100\n",
      "236/236 [==============================] - 1s 3ms/step - loss: 18.8900\n",
      "Epoch 87/100\n",
      "236/236 [==============================] - 1s 3ms/step - loss: 15.7019\n",
      "Epoch 88/100\n",
      "236/236 [==============================] - 1s 3ms/step - loss: 14.2073\n",
      "Epoch 89/100\n",
      "236/236 [==============================] - 1s 3ms/step - loss: 16.4090\n",
      "Epoch 90/100\n",
      "236/236 [==============================] - 1s 3ms/step - loss: 16.7675\n",
      "Epoch 91/100\n",
      "236/236 [==============================] - 1s 3ms/step - loss: 18.4180\n",
      "Epoch 92/100\n",
      "236/236 [==============================] - 1s 3ms/step - loss: 17.2931\n",
      "Epoch 93/100\n",
      "236/236 [==============================] - 1s 3ms/step - loss: 18.9461\n",
      "Epoch 94/100\n",
      "236/236 [==============================] - 1s 3ms/step - loss: 15.8701\n",
      "Epoch 95/100\n",
      "236/236 [==============================] - 1s 3ms/step - loss: 15.8960\n",
      "Epoch 96/100\n",
      "236/236 [==============================] - 1s 3ms/step - loss: 16.0969\n",
      "Epoch 97/100\n",
      "236/236 [==============================] - 1s 3ms/step - loss: 15.5500\n",
      "Epoch 98/100\n"
     ]
    },
    {
     "name": "stdout",
     "output_type": "stream",
     "text": [
      "236/236 [==============================] - 1s 3ms/step - loss: 16.4450\n",
      "Epoch 99/100\n",
      "236/236 [==============================] - 1s 3ms/step - loss: 17.1688\n",
      "Epoch 100/100\n",
      "236/236 [==============================] - 1s 3ms/step - loss: 18.6061\n"
     ]
    },
    {
     "data": {
      "text/plain": [
       "<tensorflow.python.keras.callbacks.History at 0x7f55440d8e80>"
      ]
     },
     "execution_count": 26,
     "metadata": {},
     "output_type": "execute_result"
    }
   ],
   "source": [
    "window2.compile(optimizer=\"adam\", loss=\"mse\")\n",
    "window2.fit(x_train3, y_train3, batch_size = 1, epochs=100)"
   ]
  },
  {
   "cell_type": "code",
   "execution_count": null,
   "metadata": {},
   "outputs": [],
   "source": []
  }
 ],
 "metadata": {
  "kernelspec": {
   "display_name": "Python 3",
   "language": "python",
   "name": "python3"
  },
  "language_info": {
   "codemirror_mode": {
    "name": "ipython",
    "version": 3
   },
   "file_extension": ".py",
   "mimetype": "text/x-python",
   "name": "python",
   "nbconvert_exporter": "python",
   "pygments_lexer": "ipython3",
   "version": "3.6.9"
  }
 },
 "nbformat": 4,
 "nbformat_minor": 2
}
