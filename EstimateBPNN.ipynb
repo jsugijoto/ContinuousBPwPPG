{
 "cells": [
  {
   "cell_type": "code",
   "execution_count": 1,
   "metadata": {},
   "outputs": [],
   "source": [
    "import pandas as pd\n",
    "import tensorflow as tf\n",
    "from tensorflow import keras\n",
    "import matplotlib.pyplot as plt\n",
    "import numpy as np\n",
    "from tensorflow.keras.layers import Dense, Input, Conv1D, MaxPooling1D, Flatten, Dropout, concatenate\n",
    "from tensorflow.keras.models import Model, Sequential\n",
    "from tensorflow.keras.utils import plot_model\n",
    "from sklearn import preprocessing\n",
    "from sklearn.preprocessing import MinMaxScaler\n",
    "from sklearn.model_selection import train_test_split\n",
    "import mat73"
   ]
  },
  {
   "cell_type": "code",
   "execution_count": 16,
   "metadata": {
    "scrolled": true
   },
   "outputs": [
    {
     "data": {
      "text/html": [
       "<div>\n",
       "<style scoped>\n",
       "    .dataframe tbody tr th:only-of-type {\n",
       "        vertical-align: middle;\n",
       "    }\n",
       "\n",
       "    .dataframe tbody tr th {\n",
       "        vertical-align: top;\n",
       "    }\n",
       "\n",
       "    .dataframe thead th {\n",
       "        text-align: right;\n",
       "    }\n",
       "</style>\n",
       "<table border=\"1\" class=\"dataframe\">\n",
       "  <thead>\n",
       "    <tr style=\"text-align: right;\">\n",
       "      <th></th>\n",
       "      <th>SA</th>\n",
       "      <th>PW</th>\n",
       "      <th>PI</th>\n",
       "      <th>p2p</th>\n",
       "      <th>IPA</th>\n",
       "      <th>Systolic</th>\n",
       "      <th>Diastolic</th>\n",
       "    </tr>\n",
       "  </thead>\n",
       "  <tbody>\n",
       "    <tr>\n",
       "      <th>0</th>\n",
       "      <td>1.765396</td>\n",
       "      <td>23.0</td>\n",
       "      <td>63</td>\n",
       "      <td>62</td>\n",
       "      <td>5.713242</td>\n",
       "      <td>123.038299</td>\n",
       "      <td>66.525670</td>\n",
       "    </tr>\n",
       "    <tr>\n",
       "      <th>1</th>\n",
       "      <td>1.754643</td>\n",
       "      <td>22.0</td>\n",
       "      <td>62</td>\n",
       "      <td>63</td>\n",
       "      <td>4.314574</td>\n",
       "      <td>120.986846</td>\n",
       "      <td>65.597632</td>\n",
       "    </tr>\n",
       "    <tr>\n",
       "      <th>2</th>\n",
       "      <td>1.687195</td>\n",
       "      <td>21.0</td>\n",
       "      <td>62</td>\n",
       "      <td>61</td>\n",
       "      <td>3.575851</td>\n",
       "      <td>118.349265</td>\n",
       "      <td>66.134917</td>\n",
       "    </tr>\n",
       "    <tr>\n",
       "      <th>3</th>\n",
       "      <td>1.663734</td>\n",
       "      <td>19.0</td>\n",
       "      <td>61</td>\n",
       "      <td>61</td>\n",
       "      <td>3.653908</td>\n",
       "      <td>119.570367</td>\n",
       "      <td>66.134917</td>\n",
       "    </tr>\n",
       "    <tr>\n",
       "      <th>4</th>\n",
       "      <td>1.700880</td>\n",
       "      <td>23.0</td>\n",
       "      <td>62</td>\n",
       "      <td>63</td>\n",
       "      <td>3.644366</td>\n",
       "      <td>122.354481</td>\n",
       "      <td>67.502552</td>\n",
       "    </tr>\n",
       "  </tbody>\n",
       "</table>\n",
       "</div>"
      ],
      "text/plain": [
       "         SA    PW  PI  p2p       IPA    Systolic  Diastolic\n",
       "0  1.765396  23.0  63   62  5.713242  123.038299  66.525670\n",
       "1  1.754643  22.0  62   63  4.314574  120.986846  65.597632\n",
       "2  1.687195  21.0  62   61  3.575851  118.349265  66.134917\n",
       "3  1.663734  19.0  61   61  3.653908  119.570367  66.134917\n",
       "4  1.700880  23.0  62   63  3.644366  122.354481  67.502552"
      ]
     },
     "execution_count": 16,
     "metadata": {},
     "output_type": "execute_result"
    }
   ],
   "source": [
    "feat = pd.read_csv('5features.csv')\n",
    "feat.head()"
   ]
  },
  {
   "cell_type": "code",
   "execution_count": 17,
   "metadata": {},
   "outputs": [],
   "source": [
    "x = feat.values[:,0:5]\n",
    "y = feat.values[:,5:]\n",
    "x_train, x_test, y_train, y_test = train_test_split(x, y, test_size = 0.3)\n",
    "x_valid, x_test, y_valid, y_test = train_test_split(x_test, y_test, test_size = 0.5)"
   ]
  },
  {
   "cell_type": "code",
   "execution_count": 18,
   "metadata": {
    "scrolled": true
   },
   "outputs": [
    {
     "name": "stdout",
     "output_type": "stream",
     "text": [
      "Model: \"Sequential\"\n",
      "_________________________________________________________________\n",
      "Layer (type)                 Output Shape              Param #   \n",
      "=================================================================\n",
      "Input (InputLayer)           [(None, 5)]               0         \n",
      "_________________________________________________________________\n",
      "Hidden (Dense)               (None, 20)                120       \n",
      "_________________________________________________________________\n",
      "Hidden1 (Dense)              (None, 45)                945       \n",
      "_________________________________________________________________\n",
      "Hidden2 (Dense)              (None, 60)                2760      \n",
      "_________________________________________________________________\n",
      "Hidden3 (Dense)              (None, 75)                4575      \n",
      "_________________________________________________________________\n",
      "Hidden4 (Dense)              (None, 100)               7600      \n",
      "_________________________________________________________________\n",
      "Hidden5 (Dense)              (None, 75)                7575      \n",
      "_________________________________________________________________\n",
      "Hidden6 (Dense)              (None, 60)                4560      \n",
      "_________________________________________________________________\n",
      "Hidden7 (Dense)              (None, 50)                3050      \n",
      "_________________________________________________________________\n",
      "Hidden8 (Dense)              (None, 20)                1020      \n",
      "_________________________________________________________________\n",
      "Output (Dense)               (None, 2)                 42        \n",
      "=================================================================\n",
      "Total params: 32,247\n",
      "Trainable params: 32,247\n",
      "Non-trainable params: 0\n",
      "_________________________________________________________________\n",
      "None\n"
     ]
    }
   ],
   "source": [
    "# Dense Model Trained off of 5 Features Extracted from Data\n",
    "inputs = Input(shape=(5), name='Input')\n",
    "hidden = Dense(20, name = 'Hidden', activation='linear')(inputs)\n",
    "hidden1 = Dense(45, name = 'Hidden1', activation='relu')(hidden)\n",
    "hidden2 = Dense(60, name ='Hidden2', activation='linear')(hidden1)\n",
    "hidden3 = Dense(75, name = 'Hidden3', activation='relu')(hidden2)\n",
    "hidden4 = Dense(100, name = 'Hidden4', activation='linear')(hidden3)\n",
    "hidden5 = Dense(75, name = 'Hidden5', activation = 'relu')(hidden4)\n",
    "hidden6 = Dense(60, name = 'Hidden6', activation = 'relu')(hidden5)\n",
    "hidden7 = Dense(50, name = 'Hidden7', activation = 'linear')(hidden6)\n",
    "hidden8 = Dense(20, name = 'Hidden8', activation = 'relu')(hidden7)\n",
    "output = Dense(2, name='Output')(hidden8)\n",
    "model = Model(inputs = inputs, outputs = output, name='Sequential')\n",
    "print(model.summary())"
   ]
  },
  {
   "cell_type": "code",
   "execution_count": 19,
   "metadata": {
    "scrolled": true
   },
   "outputs": [
    {
     "data": {
      "image/png": "[encoded data removed]",
      "text/plain": [
       "<IPython.core.display.Image object>"
      ]
     },
     "execution_count": 19,
     "metadata": {},
     "output_type": "execute_result"
    }
   ],
   "source": [
    "plot_model(model, to_file='denseModel.png')"
   ]
  },
  {
   "cell_type": "code",
   "execution_count": 20,
   "metadata": {},
   "outputs": [
    {
     "data": {
      "text/plain": [
       "<tf.Variable 'UnreadVariable' shape=() dtype=float32, numpy=0.0003>"
      ]
     },
     "execution_count": 20,
     "metadata": {},
     "output_type": "execute_result"
    }
   ],
   "source": [
    "opt = tf.keras.optimizers.Adam(3e-4)\n",
    "opt.learning_rate.assign(3e-4)"
   ]
  },
  {
   "cell_type": "code",
   "execution_count": 21,
   "metadata": {},
   "outputs": [],
   "source": [
    "model.compile(optimizer=opt, loss=\"mse\")"
   ]
  },
  {
   "cell_type": "code",
   "execution_count": 22,
   "metadata": {
    "scrolled": true
   },
   "outputs": [
    {
     "name": "stdout",
     "output_type": "stream",
     "text": [
      "Epoch 1/50\n",
      "23/23 [==============================] - 0s 6ms/step - loss: 8687.6182 - val_loss: 5189.8535\n",
      "Epoch 2/50\n",
      "23/23 [==============================] - 0s 3ms/step - loss: 2449.9456 - val_loss: 706.8526\n",
      "Epoch 3/50\n",
      "23/23 [==============================] - 0s 3ms/step - loss: 283.5901 - val_loss: 143.1443\n",
      "Epoch 4/50\n",
      "23/23 [==============================] - 0s 3ms/step - loss: 136.4852 - val_loss: 118.2518\n",
      "Epoch 5/50\n",
      "23/23 [==============================] - 0s 3ms/step - loss: 126.5245 - val_loss: 111.7797\n",
      "Epoch 6/50\n",
      "23/23 [==============================] - 0s 4ms/step - loss: 123.5413 - val_loss: 112.7494\n",
      "Epoch 7/50\n",
      "23/23 [==============================] - 0s 3ms/step - loss: 121.9668 - val_loss: 114.4536\n",
      "Epoch 8/50\n",
      "23/23 [==============================] - 0s 3ms/step - loss: 120.5974 - val_loss: 111.4714\n",
      "Epoch 9/50\n",
      "23/23 [==============================] - 0s 4ms/step - loss: 118.6170 - val_loss: 109.5153\n",
      "Epoch 10/50\n",
      "23/23 [==============================] - 0s 3ms/step - loss: 120.5209 - val_loss: 110.4775\n",
      "Epoch 11/50\n",
      "23/23 [==============================] - 0s 4ms/step - loss: 117.5792 - val_loss: 111.2069\n",
      "Epoch 12/50\n",
      "23/23 [==============================] - 0s 3ms/step - loss: 115.8556 - val_loss: 108.7228\n",
      "Epoch 13/50\n",
      "23/23 [==============================] - 0s 3ms/step - loss: 114.6407 - val_loss: 108.4164\n",
      "Epoch 14/50\n",
      "23/23 [==============================] - 0s 3ms/step - loss: 112.7354 - val_loss: 110.0380\n",
      "Epoch 15/50\n",
      "23/23 [==============================] - 0s 4ms/step - loss: 112.6638 - val_loss: 114.0678\n",
      "Epoch 16/50\n",
      "23/23 [==============================] - 0s 3ms/step - loss: 113.0038 - val_loss: 108.4804\n",
      "Epoch 17/50\n",
      "23/23 [==============================] - 0s 3ms/step - loss: 110.6567 - val_loss: 108.2398\n",
      "Epoch 18/50\n",
      "23/23 [==============================] - 0s 3ms/step - loss: 109.7254 - val_loss: 112.0239\n",
      "Epoch 19/50\n",
      "23/23 [==============================] - 0s 3ms/step - loss: 108.4587 - val_loss: 113.8241\n",
      "Epoch 20/50\n",
      "23/23 [==============================] - 0s 4ms/step - loss: 108.8958 - val_loss: 109.9037\n",
      "Epoch 21/50\n",
      "23/23 [==============================] - 0s 3ms/step - loss: 108.2025 - val_loss: 108.9814\n",
      "Epoch 22/50\n",
      "23/23 [==============================] - 0s 4ms/step - loss: 108.0479 - val_loss: 108.5491\n",
      "Epoch 23/50\n",
      "23/23 [==============================] - 0s 3ms/step - loss: 106.9574 - val_loss: 110.4994\n",
      "Epoch 24/50\n",
      "23/23 [==============================] - 0s 3ms/step - loss: 105.1602 - val_loss: 113.8759\n",
      "Epoch 25/50\n",
      "23/23 [==============================] - 0s 3ms/step - loss: 103.2740 - val_loss: 110.7274\n",
      "Epoch 26/50\n",
      "23/23 [==============================] - 0s 4ms/step - loss: 103.9503 - val_loss: 116.5044\n",
      "Epoch 27/50\n",
      "23/23 [==============================] - 0s 3ms/step - loss: 105.5400 - val_loss: 111.0129\n",
      "Epoch 28/50\n",
      "23/23 [==============================] - 0s 4ms/step - loss: 103.9380 - val_loss: 115.6314\n",
      "Epoch 29/50\n",
      "23/23 [==============================] - 0s 3ms/step - loss: 99.5374 - val_loss: 111.0799\n",
      "Epoch 30/50\n",
      "23/23 [==============================] - 0s 3ms/step - loss: 98.5842 - val_loss: 113.9645\n",
      "Epoch 31/50\n",
      "23/23 [==============================] - 0s 3ms/step - loss: 98.3409 - val_loss: 115.1213\n",
      "Epoch 32/50\n",
      "23/23 [==============================] - 0s 3ms/step - loss: 97.4288 - val_loss: 114.0347\n",
      "Epoch 33/50\n",
      "23/23 [==============================] - 0s 3ms/step - loss: 98.7905 - val_loss: 113.2004\n",
      "Epoch 34/50\n",
      "23/23 [==============================] - 0s 3ms/step - loss: 98.7868 - val_loss: 116.1142\n",
      "Epoch 35/50\n",
      "23/23 [==============================] - 0s 3ms/step - loss: 95.2067 - val_loss: 118.6566\n",
      "Epoch 36/50\n",
      "23/23 [==============================] - 0s 3ms/step - loss: 92.4394 - val_loss: 121.2011\n",
      "Epoch 37/50\n",
      "23/23 [==============================] - 0s 3ms/step - loss: 93.9364 - val_loss: 121.5116\n",
      "Epoch 38/50\n",
      "23/23 [==============================] - 0s 3ms/step - loss: 90.9580 - val_loss: 123.9014\n",
      "Epoch 39/50\n",
      "23/23 [==============================] - 0s 3ms/step - loss: 95.7955 - val_loss: 124.6110\n",
      "Epoch 40/50\n",
      "23/23 [==============================] - 0s 3ms/step - loss: 89.7758 - val_loss: 129.3864\n",
      "Epoch 41/50\n",
      "23/23 [==============================] - 0s 4ms/step - loss: 89.5714 - val_loss: 125.2497\n",
      "Epoch 42/50\n",
      "23/23 [==============================] - 0s 3ms/step - loss: 89.9349 - val_loss: 131.6396\n",
      "Epoch 43/50\n",
      "23/23 [==============================] - 0s 3ms/step - loss: 91.5230 - val_loss: 132.5626\n",
      "Epoch 44/50\n",
      "23/23 [==============================] - 0s 3ms/step - loss: 88.7036 - val_loss: 130.5817\n",
      "Epoch 45/50\n",
      "23/23 [==============================] - 0s 3ms/step - loss: 85.5425 - val_loss: 133.4037\n",
      "Epoch 46/50\n",
      "23/23 [==============================] - 0s 3ms/step - loss: 86.5300 - val_loss: 135.1116\n",
      "Epoch 47/50\n",
      "23/23 [==============================] - 0s 3ms/step - loss: 86.5276 - val_loss: 158.9288\n",
      "Epoch 48/50\n",
      "23/23 [==============================] - 0s 3ms/step - loss: 99.0221 - val_loss: 134.3541\n",
      "Epoch 49/50\n",
      "23/23 [==============================] - 0s 3ms/step - loss: 92.7362 - val_loss: 144.5499\n",
      "Epoch 50/50\n",
      "23/23 [==============================] - 0s 3ms/step - loss: 86.0904 - val_loss: 144.6941\n"
     ]
    }
   ],
   "source": [
    "hist = model.fit(x_train, y_train, validation_data = (x_test, y_test), epochs=50)"
   ]
  },
  {
   "cell_type": "code",
   "execution_count": 23,
   "metadata": {},
   "outputs": [
    {
     "data": {
      "image/png": "[encoded data removed]",
      "text/plain": [
       "<Figure size 432x288 with 1 Axes>"
      ]
     },
     "metadata": {},
     "output_type": "display_data"
    }
   ],
   "source": [
    "plt.plot(hist.history['val_loss'])\n",
    "plt.title(\"Val_Loss\")\n",
    "plt.ylabel(\"Loss\")\n",
    "plt.xlabel(\"Epoch\")\n",
    "plt.show()"
   ]
  },
  {
   "cell_type": "code",
   "execution_count": 24,
   "metadata": {
    "scrolled": true
   },
   "outputs": [
    {
     "name": "stdout",
     "output_type": "stream",
     "text": [
      "5/5 [==============================] - 0s 1ms/step - loss: 144.6941\n"
     ]
    },
    {
     "data": {
      "text/plain": [
       "144.69407653808594"
      ]
     },
     "execution_count": 24,
     "metadata": {},
     "output_type": "execute_result"
    }
   ],
   "source": [
    "model.evaluate(x_test, y_test)"
   ]
  },
  {
   "cell_type": "code",
   "execution_count": 25,
   "metadata": {},
   "outputs": [
    {
     "name": "stdout",
     "output_type": "stream",
     "text": [
      "[[136.95468   75.13712 ]\n",
      " [133.95166   73.507935]\n",
      " [136.68008   74.99289 ]\n",
      " ...\n",
      " [133.0729    72.976875]\n",
      " [132.73221   72.807594]\n",
      " [136.95354   75.13637 ]]\n"
     ]
    }
   ],
   "source": [
    "predict = model.predict(x_train)\n",
    "print(predict)"
   ]
  },
  {
   "cell_type": "code",
   "execution_count": 26,
   "metadata": {},
   "outputs": [],
   "source": [
    "# Extract PPG data into CSV files\n",
    "orig = mat73.loadmat(r'data/Part_1.mat')"
   ]
  },
  {
   "cell_type": "code",
   "execution_count": 27,
   "metadata": {},
   "outputs": [],
   "source": [
    "# Only using Part_1 right now, will expand this to Part 1-3 after the concatenation of everything\n",
    "ppg = orig['Part_1'][0][0]\n",
    "abp = orig['Part_1'][0][1]"
   ]
  },
  {
   "cell_type": "code",
   "execution_count": 28,
   "metadata": {},
   "outputs": [],
   "source": [
    "# Export the current feature list into CSV file # DONT RUN AGAIN ALREADY HAVE FILE\n",
    "df = pd.DataFrame({'y': ppg, 'ABP': abp})\n",
    "df.to_csv(\"smallPPG.csv\", index=True, index_label='x')"
   ]
  },
  {
   "cell_type": "code",
   "execution_count": 29,
   "metadata": {},
   "outputs": [
    {
     "data": {
      "text/plain": [
       "61000"
      ]
     },
     "execution_count": 29,
     "metadata": {},
     "output_type": "execute_result"
    }
   ],
   "source": [
    "# Read new CSV file with PPG and ABP\n",
    "data = pd.read_csv('smallPPG.csv')\n",
    "len(data)"
   ]
  },
  {
   "cell_type": "code",
   "execution_count": 30,
   "metadata": {
    "scrolled": true
   },
   "outputs": [
    {
     "data": {
      "text/html": [
       "<div>\n",
       "<style scoped>\n",
       "    .dataframe tbody tr th:only-of-type {\n",
       "        vertical-align: middle;\n",
       "    }\n",
       "\n",
       "    .dataframe tbody tr th {\n",
       "        vertical-align: top;\n",
       "    }\n",
       "\n",
       "    .dataframe thead th {\n",
       "        text-align: right;\n",
       "    }\n",
       "</style>\n",
       "<table border=\"1\" class=\"dataframe\">\n",
       "  <thead>\n",
       "    <tr style=\"text-align: right;\">\n",
       "      <th></th>\n",
       "      <th>x</th>\n",
       "      <th>y</th>\n",
       "      <th>ABP</th>\n",
       "    </tr>\n",
       "  </thead>\n",
       "  <tbody>\n",
       "    <tr>\n",
       "      <th>0</th>\n",
       "      <td>0</td>\n",
       "      <td>1.759531</td>\n",
       "      <td>67.062955</td>\n",
       "    </tr>\n",
       "    <tr>\n",
       "      <th>1</th>\n",
       "      <td>1</td>\n",
       "      <td>1.718475</td>\n",
       "      <td>69.358628</td>\n",
       "    </tr>\n",
       "    <tr>\n",
       "      <th>2</th>\n",
       "      <td>2</td>\n",
       "      <td>1.684262</td>\n",
       "      <td>75.366453</td>\n",
       "    </tr>\n",
       "    <tr>\n",
       "      <th>3</th>\n",
       "      <td>3</td>\n",
       "      <td>1.657869</td>\n",
       "      <td>85.037586</td>\n",
       "    </tr>\n",
       "    <tr>\n",
       "      <th>4</th>\n",
       "      <td>4</td>\n",
       "      <td>1.637341</td>\n",
       "      <td>96.222885</td>\n",
       "    </tr>\n",
       "    <tr>\n",
       "      <th>...</th>\n",
       "      <td>...</td>\n",
       "      <td>...</td>\n",
       "      <td>...</td>\n",
       "    </tr>\n",
       "    <tr>\n",
       "      <th>60995</th>\n",
       "      <td>60995</td>\n",
       "      <td>1.771261</td>\n",
       "      <td>74.438415</td>\n",
       "    </tr>\n",
       "    <tr>\n",
       "      <th>60996</th>\n",
       "      <td>60996</td>\n",
       "      <td>1.700880</td>\n",
       "      <td>74.536103</td>\n",
       "    </tr>\n",
       "    <tr>\n",
       "      <th>60997</th>\n",
       "      <td>60997</td>\n",
       "      <td>1.644184</td>\n",
       "      <td>76.441023</td>\n",
       "    </tr>\n",
       "    <tr>\n",
       "      <th>60998</th>\n",
       "      <td>60998</td>\n",
       "      <td>1.600196</td>\n",
       "      <td>81.813875</td>\n",
       "    </tr>\n",
       "    <tr>\n",
       "      <th>60999</th>\n",
       "      <td>60999</td>\n",
       "      <td>1.565982</td>\n",
       "      <td>91.387319</td>\n",
       "    </tr>\n",
       "  </tbody>\n",
       "</table>\n",
       "<p>61000 rows × 3 columns</p>\n",
       "</div>"
      ],
      "text/plain": [
       "           x         y        ABP\n",
       "0          0  1.759531  67.062955\n",
       "1          1  1.718475  69.358628\n",
       "2          2  1.684262  75.366453\n",
       "3          3  1.657869  85.037586\n",
       "4          4  1.637341  96.222885\n",
       "...      ...       ...        ...\n",
       "60995  60995  1.771261  74.438415\n",
       "60996  60996  1.700880  74.536103\n",
       "60997  60997  1.644184  76.441023\n",
       "60998  60998  1.600196  81.813875\n",
       "60999  60999  1.565982  91.387319\n",
       "\n",
       "[61000 rows x 3 columns]"
      ]
     },
     "execution_count": 30,
     "metadata": {},
     "output_type": "execute_result"
    }
   ],
   "source": [
    "data"
   ]
  },
  {
   "cell_type": "code",
   "execution_count": 31,
   "metadata": {},
   "outputs": [
    {
     "data": {
      "text/plain": [
       "array([[0.00000000e+00, 4.39667807e-01, 1.53709462e-01],\n",
       "       [1.63937114e-05, 4.29408891e-01, 1.74589072e-01],\n",
       "       [3.27874227e-05, 4.20859795e-01, 2.29231453e-01],\n",
       "       ...,\n",
       "       [9.99967213e-01, 4.10845139e-01, 2.39004887e-01],\n",
       "       [9.99983606e-01, 3.99853444e-01, 2.87872057e-01],\n",
       "       [1.00000000e+00, 3.91304348e-01, 3.74944469e-01]])"
      ]
     },
     "execution_count": 31,
     "metadata": {},
     "output_type": "execute_result"
    }
   ],
   "source": [
    "Scaler = MinMaxScaler()\n",
    "Scaler.fit_transform(data)"
   ]
  },
  {
   "cell_type": "code",
   "execution_count": 32,
   "metadata": {},
   "outputs": [],
   "source": [
    "# PPG to ABP Testing Network\n",
    "x1 = data.values[:,0:2]\n",
    "y1 = data.values[:,2:]\n",
    "x1 = np.expand_dims(x1, axis=2)\n",
    "\n",
    "x_train1, x_test1, y_train1, y_test1 = train_test_split(x1, y1, test_size = 0.3)\n",
    "x_valid1, x_test1, y_valid1, y_test1 = train_test_split(x_test1, y_test1, test_size = 0.5)"
   ]
  },
  {
   "cell_type": "code",
   "execution_count": 33,
   "metadata": {},
   "outputs": [
    {
     "data": {
      "text/plain": [
       "<tf.Variable 'UnreadVariable' shape=() dtype=float32, numpy=1e-04>"
      ]
     },
     "execution_count": 33,
     "metadata": {},
     "output_type": "execute_result"
    }
   ],
   "source": [
    "optConv = tf.keras.optimizers.Adam(0.001)\n",
    "optConv.learning_rate.assign(0.0001)"
   ]
  },
  {
   "cell_type": "code",
   "execution_count": 34,
   "metadata": {},
   "outputs": [],
   "source": [
    "n_timesteps, n_features, n_outputs = x_train1.shape[1], x_train1.shape[2], y_train1.shape[1]"
   ]
  },
  {
   "cell_type": "code",
   "execution_count": 18,
   "metadata": {
    "scrolled": true
   },
   "outputs": [
    {
     "name": "stdout",
     "output_type": "stream",
     "text": [
      "Model: \"SBP\"\n",
      "_________________________________________________________________\n",
      "Layer (type)                 Output Shape              Param #   \n",
      "=================================================================\n",
      "InputPPG (InputLayer)        [(None, 2, 1)]            0         \n",
      "_________________________________________________________________\n",
      "conv1d (Conv1D)              (None, 2, 256)            512       \n",
      "_________________________________________________________________\n",
      "max_pooling1d (MaxPooling1D) (None, 1, 256)            0         \n",
      "_________________________________________________________________\n",
      "dense (Dense)                (None, 1, 64)             16448     \n",
      "_________________________________________________________________\n",
      "conv1d_1 (Conv1D)            (None, 1, 256)            16640     \n",
      "_________________________________________________________________\n",
      "max_pooling1d_1 (MaxPooling1 (None, 1, 256)            0         \n",
      "_________________________________________________________________\n",
      "flatten (Flatten)            (None, 256)               0         \n",
      "_________________________________________________________________\n",
      "dense_1 (Dense)              (None, 1)                 257       \n",
      "=================================================================\n",
      "Total params: 33,857\n",
      "Trainable params: 33,857\n",
      "Non-trainable params: 0\n",
      "_________________________________________________________________\n",
      "None\n"
     ]
    }
   ],
   "source": [
    "# PPG to ABP Neural Network (Not using, just testing)\n",
    "inputs = Input(shape=(n_timesteps, n_features), name='InputPPG')\n",
    "conv1 = Conv1D(filters = 256, kernel_size = 1, activation = 'relu')(inputs)\n",
    "pool1 = MaxPooling1D(pool_size = 2)(conv1)\n",
    "dense1 = Dense(64, activation='relu')(pool1)\n",
    "conv2 = Conv1D(filters = 256, kernel_size = 1, activation = 'relu')(dense1)\n",
    "pool2 = MaxPooling1D(pool_size = 2, padding=\"same\")(conv2)\n",
    "flatten = Flatten()(pool2)\n",
    "output = Dense(n_outputs, activation='linear')(flatten)\n",
    "model1 = Model(inputs = inputs, outputs = output, name='SBP')\n",
    "print(model1.summary())"
   ]
  },
  {
   "cell_type": "code",
   "execution_count": 19,
   "metadata": {},
   "outputs": [],
   "source": [
    "model1.compile(optimizer=optConv, loss=\"mse\")"
   ]
  },
  {
   "cell_type": "code",
   "execution_count": 20,
   "metadata": {
    "scrolled": true
   },
   "outputs": [
    {
     "name": "stdout",
     "output_type": "stream",
     "text": [
      "Epoch 1/10\n",
      "1335/1335 [==============================] - 4s 3ms/step - loss: 2877.8796 - val_loss: 2506.3333\n",
      "Epoch 2/10\n",
      "1335/1335 [==============================] - 4s 3ms/step - loss: 2671.5769 - val_loss: 3433.8042\n",
      "Epoch 3/10\n",
      "1335/1335 [==============================] - 4s 3ms/step - loss: 2582.4714 - val_loss: 2799.5439\n",
      "Epoch 4/10\n",
      "1335/1335 [==============================] - 4s 3ms/step - loss: 2482.3000 - val_loss: 2184.8726\n",
      "Epoch 5/10\n",
      "1335/1335 [==============================] - 4s 3ms/step - loss: 2496.1458 - val_loss: 2212.8186\n",
      "Epoch 6/10\n",
      "1335/1335 [==============================] - 4s 3ms/step - loss: 2304.2183 - val_loss: 2549.0774\n",
      "Epoch 7/10\n",
      "1335/1335 [==============================] - 4s 3ms/step - loss: 2314.2803 - val_loss: 2201.3582\n",
      "Epoch 8/10\n",
      "1335/1335 [==============================] - 4s 3ms/step - loss: 2151.2263 - val_loss: 2020.2720\n",
      "Epoch 9/10\n",
      "1335/1335 [==============================] - 4s 3ms/step - loss: 2062.0156 - val_loss: 1851.7772\n",
      "Epoch 10/10\n",
      "1335/1335 [==============================] - 4s 3ms/step - loss: 1961.3763 - val_loss: 1687.1534\n"
     ]
    },
    {
     "data": {
      "text/plain": [
       "<tensorflow.python.keras.callbacks.History at 0x7ff8f60bf6a0>"
      ]
     },
     "execution_count": 20,
     "metadata": {},
     "output_type": "execute_result"
    }
   ],
   "source": [
    "model1.fit(x_train1, y_train1, validation_data=(x_test1, y_test1), epochs=10)"
   ]
  },
  {
   "cell_type": "code",
   "execution_count": 21,
   "metadata": {
    "scrolled": true
   },
   "outputs": [
    {
     "name": "stdout",
     "output_type": "stream",
     "text": [
      "286/286 [==============================] - 0s 2ms/step - loss: 1687.1534\n"
     ]
    },
    {
     "data": {
      "text/plain": [
       "1687.1534423828125"
      ]
     },
     "execution_count": 21,
     "metadata": {},
     "output_type": "execute_result"
    }
   ],
   "source": [
    "model1.evaluate(x_test1, y_test1)"
   ]
  },
  {
   "cell_type": "code",
   "execution_count": 23,
   "metadata": {},
   "outputs": [
    {
     "data": {
      "text/plain": [
       "60999"
      ]
     },
     "execution_count": 23,
     "metadata": {},
     "output_type": "execute_result"
    }
   ],
   "source": [
    "# Differentiate the PPG data (first derivative)\n",
    "dy = np.diff(ppg)\n",
    "len(dy)"
   ]
  },
  {
   "cell_type": "code",
   "execution_count": 24,
   "metadata": {},
   "outputs": [],
   "source": [
    "# Differentiatea the PPG data again (second derivative)\n",
    "dyy = np.diff(dy)"
   ]
  },
  {
   "cell_type": "code",
   "execution_count": 35,
   "metadata": {},
   "outputs": [],
   "source": [
    "# Loading the data created in the feature extraction file\n",
    "ppg_window = np.load('ppg_windows.npy')\n",
    "sbp = np.load('sbp.npy')\n",
    "dbp = np.load('dbp.npy')"
   ]
  },
  {
   "cell_type": "code",
   "execution_count": 36,
   "metadata": {},
   "outputs": [],
   "source": [
    "# Setting the target to SBP from PPG_Window data\n",
    "x2 = ppg_window\n",
    "y2 = sbp\n",
    "x2 = np.expand_dims(x2, axis=2)\n",
    "y2 = np.expand_dims(y2, axis=1)\n",
    "\n",
    "x_train2, x_test2, y_train2, y_test2 = train_test_split(x2, y2, test_size = 0.3)\n",
    "x_valid2, x_test2, y_valid2, y_test2 = train_test_split(x_test2, y_test2, test_size = 0.5)"
   ]
  },
  {
   "cell_type": "code",
   "execution_count": 37,
   "metadata": {},
   "outputs": [
    {
     "data": {
      "text/plain": [
       "<tf.Variable 'UnreadVariable' shape=() dtype=float32, numpy=1e-05>"
      ]
     },
     "execution_count": 37,
     "metadata": {},
     "output_type": "execute_result"
    }
   ],
   "source": [
    "optConvSBP = tf.keras.optimizers.Adam(0.001)\n",
    "optConvSBP.learning_rate.assign(0.00001)"
   ]
  },
  {
   "cell_type": "code",
   "execution_count": 38,
   "metadata": {},
   "outputs": [],
   "source": [
    "n_timestepsSBP, n_featuresSBP, n_outputsSBP = x_train2.shape[1], x_train2.shape[2], y_train2.shape[1]"
   ]
  },
  {
   "cell_type": "code",
   "execution_count": 39,
   "metadata": {},
   "outputs": [
    {
     "name": "stdout",
     "output_type": "stream",
     "text": [
      "Model: \"SBP\"\n",
      "_________________________________________________________________\n",
      "Layer (type)                 Output Shape              Param #   \n",
      "=================================================================\n",
      "InputSBP (InputLayer)        [(None, 180, 1)]          0         \n",
      "_________________________________________________________________\n",
      "conv1d (Conv1D)              (None, 180, 256)          512       \n",
      "_________________________________________________________________\n",
      "max_pooling1d (MaxPooling1D) (None, 90, 256)           0         \n",
      "_________________________________________________________________\n",
      "dense (Dense)                (None, 90, 3)             771       \n",
      "_________________________________________________________________\n",
      "conv1d_1 (Conv1D)            (None, 90, 64)            256       \n",
      "_________________________________________________________________\n",
      "max_pooling1d_1 (MaxPooling1 (None, 45, 64)            0         \n",
      "_________________________________________________________________\n",
      "conv1d_2 (Conv1D)            (None, 45, 128)           8320      \n",
      "_________________________________________________________________\n",
      "max_pooling1d_2 (MaxPooling1 (None, 22, 128)           0         \n",
      "_________________________________________________________________\n",
      "flatten (Flatten)            (None, 2816)              0         \n",
      "_________________________________________________________________\n",
      "dense_1 (Dense)              (None, 64)                180288    \n",
      "_________________________________________________________________\n",
      "dense_2 (Dense)              (None, 1)                 65        \n",
      "=================================================================\n",
      "Total params: 190,212\n",
      "Trainable params: 190,212\n",
      "Non-trainable params: 0\n",
      "_________________________________________________________________\n",
      "None\n"
     ]
    }
   ],
   "source": [
    "sbp_inputs = Input(shape=(n_timestepsSBP, n_featuresSBP), name='InputSBP')\n",
    "conv1 = Conv1D(filters = 256, kernel_size = 1, activation = 'relu')(sbp_inputs)\n",
    "pool1 = MaxPooling1D(pool_size = 2)(conv1)\n",
    "dense1 = Dense(3, activation='relu')(pool1)\n",
    "conv2 = Conv1D(input_shape=(n_timestepsSBP, n_outputsSBP), filters = 64, kernel_size = 1, activation = 'relu')(dense1)\n",
    "pool2 = MaxPooling1D(pool_size = 2)(conv2)\n",
    "conv3 = Conv1D(input_shape=(n_timestepsSBP, n_outputsSBP), filters = 128, kernel_size = 1, activation = 'relu')(pool2)\n",
    "pool3 = MaxPooling1D(pool_size = 2)(conv3)\n",
    "flat2 = Flatten()(pool3)\n",
    "dense2 = Dense(64, activation='linear')(flat2)\n",
    "output = Dense(n_outputs, activation='linear')(dense2)\n",
    "window = Model(inputs = sbp_inputs, outputs = output, name='SBP')\n",
    "print(window.summary())"
   ]
  },
  {
   "cell_type": "code",
   "execution_count": 40,
   "metadata": {
    "scrolled": true
   },
   "outputs": [
    {
     "name": "stdout",
     "output_type": "stream",
     "text": [
      "Epoch 1/100\n",
      "8/8 [==============================] - 0s 26ms/step - loss: 17560.4023 - val_loss: 17750.9727\n",
      "Epoch 2/100\n",
      "8/8 [==============================] - 0s 15ms/step - loss: 17560.1855 - val_loss: 17750.7559\n",
      "Epoch 3/100\n",
      "8/8 [==============================] - 0s 14ms/step - loss: 17559.9688 - val_loss: 17750.5371\n",
      "Epoch 4/100\n",
      "8/8 [==============================] - 0s 14ms/step - loss: 17559.7559 - val_loss: 17750.3203\n",
      "Epoch 5/100\n",
      "8/8 [==============================] - 0s 16ms/step - loss: 17559.5391 - val_loss: 17750.1055\n",
      "Epoch 6/100\n",
      "8/8 [==============================] - 0s 15ms/step - loss: 17559.3203 - val_loss: 17749.8848\n",
      "Epoch 7/100\n",
      "8/8 [==============================] - 0s 15ms/step - loss: 17559.1055 - val_loss: 17749.6641\n",
      "Epoch 8/100\n",
      "8/8 [==============================] - 0s 16ms/step - loss: 17558.8867 - val_loss: 17749.4473\n",
      "Epoch 9/100\n",
      "8/8 [==============================] - 0s 16ms/step - loss: 17558.6699 - val_loss: 17749.2285\n",
      "Epoch 10/100\n",
      "8/8 [==============================] - 0s 15ms/step - loss: 17558.4512 - val_loss: 17749.0078\n",
      "Epoch 11/100\n",
      "8/8 [==============================] - 0s 13ms/step - loss: 17558.2305 - val_loss: 17748.7871\n",
      "Epoch 12/100\n",
      "8/8 [==============================] - 0s 14ms/step - loss: 17558.0137 - val_loss: 17748.5684\n",
      "Epoch 13/100\n",
      "8/8 [==============================] - 0s 16ms/step - loss: 17557.7930 - val_loss: 17748.3457\n",
      "Epoch 14/100\n",
      "8/8 [==============================] - 0s 15ms/step - loss: 17557.5723 - val_loss: 17748.1270\n",
      "Epoch 15/100\n",
      "8/8 [==============================] - 0s 16ms/step - loss: 17557.3516 - val_loss: 17747.9023\n",
      "Epoch 16/100\n",
      "8/8 [==============================] - 0s 15ms/step - loss: 17557.1309 - val_loss: 17747.6797\n",
      "Epoch 17/100\n",
      "8/8 [==============================] - 0s 14ms/step - loss: 17556.9082 - val_loss: 17747.4551\n",
      "Epoch 18/100\n",
      "8/8 [==============================] - 0s 15ms/step - loss: 17556.6875 - val_loss: 17747.2324\n",
      "Epoch 19/100\n",
      "8/8 [==============================] - 0s 16ms/step - loss: 17556.4648 - val_loss: 17747.0078\n",
      "Epoch 20/100\n",
      "8/8 [==============================] - 0s 16ms/step - loss: 17556.2441 - val_loss: 17746.7852\n",
      "Epoch 21/100\n",
      "8/8 [==============================] - 0s 15ms/step - loss: 17556.0195 - val_loss: 17746.5605\n",
      "Epoch 22/100\n",
      "8/8 [==============================] - 0s 16ms/step - loss: 17555.7949 - val_loss: 17746.3340\n",
      "Epoch 23/100\n",
      "8/8 [==============================] - 0s 14ms/step - loss: 17555.5723 - val_loss: 17746.1094\n",
      "Epoch 24/100\n",
      "8/8 [==============================] - 0s 15ms/step - loss: 17555.3477 - val_loss: 17745.8828\n",
      "Epoch 25/100\n",
      "8/8 [==============================] - 0s 16ms/step - loss: 17555.1211 - val_loss: 17745.6562\n",
      "Epoch 26/100\n",
      "8/8 [==============================] - 0s 15ms/step - loss: 17554.8965 - val_loss: 17745.4297\n",
      "Epoch 27/100\n",
      "8/8 [==============================] - 0s 14ms/step - loss: 17554.6699 - val_loss: 17745.2051\n",
      "Epoch 28/100\n",
      "8/8 [==============================] - 0s 15ms/step - loss: 17554.4434 - val_loss: 17744.9727\n",
      "Epoch 29/100\n",
      "8/8 [==============================] - 0s 15ms/step - loss: 17554.2168 - val_loss: 17744.7461\n",
      "Epoch 30/100\n",
      "8/8 [==============================] - 0s 16ms/step - loss: 17553.9902 - val_loss: 17744.5195\n",
      "Epoch 31/100\n",
      "8/8 [==============================] - 0s 15ms/step - loss: 17553.7637 - val_loss: 17744.2910\n",
      "Epoch 32/100\n",
      "8/8 [==============================] - 0s 15ms/step - loss: 17553.5332 - val_loss: 17744.0586\n",
      "Epoch 33/100\n",
      "8/8 [==============================] - 0s 15ms/step - loss: 17553.3066 - val_loss: 17743.8301\n",
      "Epoch 34/100\n",
      "8/8 [==============================] - 0s 16ms/step - loss: 17553.0781 - val_loss: 17743.5996\n",
      "Epoch 35/100\n",
      "8/8 [==============================] - 0s 15ms/step - loss: 17552.8477 - val_loss: 17743.3691\n",
      "Epoch 36/100\n",
      "8/8 [==============================] - 0s 15ms/step - loss: 17552.6172 - val_loss: 17743.1367\n",
      "Epoch 37/100\n",
      "8/8 [==============================] - 0s 15ms/step - loss: 17552.3887 - val_loss: 17742.9062\n",
      "Epoch 38/100\n",
      "8/8 [==============================] - 0s 15ms/step - loss: 17552.1582 - val_loss: 17742.6758\n",
      "Epoch 39/100\n",
      "8/8 [==============================] - 0s 15ms/step - loss: 17551.9258 - val_loss: 17742.4395\n",
      "Epoch 40/100\n",
      "8/8 [==============================] - 0s 15ms/step - loss: 17551.6973 - val_loss: 17742.2090\n",
      "Epoch 41/100\n",
      "8/8 [==============================] - 0s 16ms/step - loss: 17551.4629 - val_loss: 17741.9727\n",
      "Epoch 42/100\n",
      "8/8 [==============================] - 0s 16ms/step - loss: 17551.2305 - val_loss: 17741.7402\n",
      "Epoch 43/100\n",
      "8/8 [==============================] - 0s 15ms/step - loss: 17550.9961 - val_loss: 17741.5059\n",
      "Epoch 44/100\n",
      "8/8 [==============================] - 0s 16ms/step - loss: 17550.7637 - val_loss: 17741.2695\n",
      "Epoch 45/100\n",
      "8/8 [==============================] - 0s 15ms/step - loss: 17550.5293 - val_loss: 17741.0352\n",
      "Epoch 46/100\n",
      "8/8 [==============================] - 0s 15ms/step - loss: 17550.2949 - val_loss: 17740.7988\n",
      "Epoch 47/100\n",
      "8/8 [==============================] - 0s 16ms/step - loss: 17550.0605 - val_loss: 17740.5645\n",
      "Epoch 48/100\n",
      "8/8 [==============================] - 0s 16ms/step - loss: 17549.8242 - val_loss: 17740.3281\n",
      "Epoch 49/100\n",
      "8/8 [==============================] - 0s 16ms/step - loss: 17549.5879 - val_loss: 17740.0879\n",
      "Epoch 50/100\n",
      "8/8 [==============================] - 0s 14ms/step - loss: 17549.3535 - val_loss: 17739.8535\n",
      "Epoch 51/100\n",
      "8/8 [==============================] - 0s 15ms/step - loss: 17549.1191 - val_loss: 17739.6133\n",
      "Epoch 52/100\n",
      "8/8 [==============================] - 0s 14ms/step - loss: 17548.8809 - val_loss: 17739.3730\n",
      "Epoch 53/100\n",
      "8/8 [==============================] - 0s 14ms/step - loss: 17548.6406 - val_loss: 17739.1348\n",
      "Epoch 54/100\n",
      "8/8 [==============================] - 0s 14ms/step - loss: 17548.4043 - val_loss: 17738.8945\n",
      "Epoch 55/100\n",
      "8/8 [==============================] - 0s 16ms/step - loss: 17548.1641 - val_loss: 17738.6562\n",
      "Epoch 56/100\n",
      "8/8 [==============================] - 0s 15ms/step - loss: 17547.9277 - val_loss: 17738.4141\n",
      "Epoch 57/100\n",
      "8/8 [==============================] - 0s 16ms/step - loss: 17547.6875 - val_loss: 17738.1758\n",
      "Epoch 58/100\n",
      "8/8 [==============================] - 0s 15ms/step - loss: 17547.4473 - val_loss: 17737.9316\n",
      "Epoch 59/100\n",
      "8/8 [==============================] - 0s 16ms/step - loss: 17547.2070 - val_loss: 17737.6934\n",
      "Epoch 60/100\n",
      "8/8 [==============================] - 0s 15ms/step - loss: 17546.9688 - val_loss: 17737.4512\n",
      "Epoch 61/100\n",
      "8/8 [==============================] - 0s 15ms/step - loss: 17546.7246 - val_loss: 17737.2090\n",
      "Epoch 62/100\n",
      "8/8 [==============================] - 0s 16ms/step - loss: 17546.4844 - val_loss: 17736.9648\n",
      "Epoch 63/100\n",
      "8/8 [==============================] - 0s 16ms/step - loss: 17546.2422 - val_loss: 17736.7207\n",
      "Epoch 64/100\n",
      "8/8 [==============================] - 0s 15ms/step - loss: 17546.0020 - val_loss: 17736.4785\n",
      "Epoch 65/100\n",
      "8/8 [==============================] - 0s 15ms/step - loss: 17545.7598 - val_loss: 17736.2344\n",
      "Epoch 66/100\n",
      "8/8 [==============================] - 0s 16ms/step - loss: 17545.5176 - val_loss: 17735.9922\n",
      "Epoch 67/100\n",
      "8/8 [==============================] - 0s 16ms/step - loss: 17545.2715 - val_loss: 17735.7441\n",
      "Epoch 68/100\n",
      "8/8 [==============================] - 0s 16ms/step - loss: 17545.0293 - val_loss: 17735.5000\n",
      "Epoch 69/100\n",
      "8/8 [==============================] - 0s 15ms/step - loss: 17544.7852 - val_loss: 17735.2559\n",
      "Epoch 70/100\n",
      "8/8 [==============================] - 0s 15ms/step - loss: 17544.5391 - val_loss: 17735.0078\n",
      "Epoch 71/100\n",
      "8/8 [==============================] - 0s 16ms/step - loss: 17544.2969 - val_loss: 17734.7617\n",
      "Epoch 72/100\n",
      "8/8 [==============================] - 0s 14ms/step - loss: 17544.0508 - val_loss: 17734.5156\n",
      "Epoch 73/100\n",
      "8/8 [==============================] - 0s 14ms/step - loss: 17543.8027 - val_loss: 17734.2695\n",
      "Epoch 74/100\n",
      "8/8 [==============================] - 0s 14ms/step - loss: 17543.5586 - val_loss: 17734.0215\n",
      "Epoch 75/100\n",
      "8/8 [==============================] - 0s 14ms/step - loss: 17543.3125 - val_loss: 17733.7695\n",
      "Epoch 76/100\n",
      "8/8 [==============================] - 0s 15ms/step - loss: 17543.0645 - val_loss: 17733.5215\n",
      "Epoch 77/100\n"
     ]
    },
    {
     "name": "stdout",
     "output_type": "stream",
     "text": [
      "8/8 [==============================] - 0s 16ms/step - loss: 17542.8164 - val_loss: 17733.2754\n",
      "Epoch 78/100\n",
      "8/8 [==============================] - 0s 16ms/step - loss: 17542.5684 - val_loss: 17733.0215\n",
      "Epoch 79/100\n",
      "8/8 [==============================] - 0s 15ms/step - loss: 17542.3203 - val_loss: 17732.7754\n",
      "Epoch 80/100\n",
      "8/8 [==============================] - 0s 15ms/step - loss: 17542.0703 - val_loss: 17732.5254\n",
      "Epoch 81/100\n",
      "8/8 [==============================] - 0s 14ms/step - loss: 17541.8203 - val_loss: 17732.2715\n",
      "Epoch 82/100\n",
      "8/8 [==============================] - 0s 16ms/step - loss: 17541.5703 - val_loss: 17732.0195\n",
      "Epoch 83/100\n",
      "8/8 [==============================] - 0s 16ms/step - loss: 17541.3223 - val_loss: 17731.7695\n",
      "Epoch 84/100\n",
      "8/8 [==============================] - 0s 16ms/step - loss: 17541.0723 - val_loss: 17731.5176\n",
      "Epoch 85/100\n",
      "8/8 [==============================] - 0s 16ms/step - loss: 17540.8184 - val_loss: 17731.2656\n",
      "Epoch 86/100\n",
      "8/8 [==============================] - 0s 16ms/step - loss: 17540.5684 - val_loss: 17731.0098\n",
      "Epoch 87/100\n",
      "8/8 [==============================] - 0s 15ms/step - loss: 17540.3164 - val_loss: 17730.7559\n",
      "Epoch 88/100\n",
      "8/8 [==============================] - 0s 15ms/step - loss: 17540.0664 - val_loss: 17730.5059\n",
      "Epoch 89/100\n",
      "8/8 [==============================] - 0s 14ms/step - loss: 17539.8145 - val_loss: 17730.2500\n",
      "Epoch 90/100\n",
      "8/8 [==============================] - 0s 15ms/step - loss: 17539.5566 - val_loss: 17729.9941\n",
      "Epoch 91/100\n",
      "8/8 [==============================] - 0s 15ms/step - loss: 17539.3047 - val_loss: 17729.7383\n",
      "Epoch 92/100\n",
      "8/8 [==============================] - 0s 16ms/step - loss: 17539.0527 - val_loss: 17729.4824\n",
      "Epoch 93/100\n",
      "8/8 [==============================] - 0s 16ms/step - loss: 17538.7969 - val_loss: 17729.2305\n",
      "Epoch 94/100\n",
      "8/8 [==============================] - 0s 15ms/step - loss: 17538.5449 - val_loss: 17728.9707\n",
      "Epoch 95/100\n",
      "8/8 [==============================] - 0s 15ms/step - loss: 17538.2891 - val_loss: 17728.7148\n",
      "Epoch 96/100\n",
      "8/8 [==============================] - 0s 16ms/step - loss: 17538.0332 - val_loss: 17728.4590\n",
      "Epoch 97/100\n",
      "8/8 [==============================] - 0s 15ms/step - loss: 17537.7773 - val_loss: 17728.2012\n",
      "Epoch 98/100\n",
      "8/8 [==============================] - 0s 16ms/step - loss: 17537.5215 - val_loss: 17727.9453\n",
      "Epoch 99/100\n",
      "8/8 [==============================] - 0s 15ms/step - loss: 17537.2637 - val_loss: 17727.6836\n",
      "Epoch 100/100\n",
      "8/8 [==============================] - 0s 15ms/step - loss: 17537.0078 - val_loss: 17727.4297\n"
     ]
    }
   ],
   "source": [
    "window.compile(optimizer=optConvSBP, loss=\"mse\")\n",
    "wind = window.fit(x_train2, y_train2, validation_data = (x_test2, y_test2), batch_size = 32, epochs=100)"
   ]
  },
  {
   "cell_type": "code",
   "execution_count": 41,
   "metadata": {
    "scrolled": true
   },
   "outputs": [
    {
     "name": "stdout",
     "output_type": "stream",
     "text": [
      "2/2 [==============================] - 0s 2ms/step - loss: 17727.4297\n"
     ]
    },
    {
     "data": {
      "text/plain": [
       "17727.4296875"
      ]
     },
     "execution_count": 41,
     "metadata": {},
     "output_type": "execute_result"
    }
   ],
   "source": [
    "window.evaluate(x_test2, y_test2)"
   ]
  },
  {
   "cell_type": "code",
   "execution_count": 42,
   "metadata": {},
   "outputs": [
    {
     "data": {
      "image/png": "[encoded data removed]",
      "text/plain": [
       "<Figure size 432x288 with 1 Axes>"
      ]
     },
     "metadata": {},
     "output_type": "display_data"
    }
   ],
   "source": [
    "plt.plot(wind.history['val_loss'])\n",
    "plt.title(\"Val_Loss\")\n",
    "plt.ylabel(\"Loss\")\n",
    "plt.xlabel(\"Epoch\")\n",
    "plt.show()"
   ]
  },
  {
   "cell_type": "code",
   "execution_count": 107,
   "metadata": {},
   "outputs": [],
   "source": [
    "# Creating another neural network with a target of the DBP for the PPG_Windows\n",
    "x3 = ppg_window\n",
    "y3 = dbp\n",
    "x3 = np.expand_dims(x3, axis=2)\n",
    "y3 = np.expand_dims(y3, axis=1)\n",
    "\n",
    "x_train3, x_test3, y_train3, y_test3 = train_test_split(x3, y3, test_size = 0.3)\n",
    "x_valid3, x_test3, y_valid3, y_test3 = train_test_split(x_test3, y_test3, test_size = 0.5)"
   ]
  },
  {
   "cell_type": "code",
   "execution_count": 44,
   "metadata": {},
   "outputs": [],
   "source": [
    "n_timestepsDBP, n_featuresDBP, n_outputsDBP = x_train2.shape[1], x_train2.shape[2], y_train2.shape[1]"
   ]
  },
  {
   "cell_type": "code",
   "execution_count": 45,
   "metadata": {
    "scrolled": true
   },
   "outputs": [
    {
     "name": "stdout",
     "output_type": "stream",
     "text": [
      "Model: \"DBP\"\n",
      "_________________________________________________________________\n",
      "Layer (type)                 Output Shape              Param #   \n",
      "=================================================================\n",
      "InputDBP (InputLayer)        [(None, 180, 1)]          0         \n",
      "_________________________________________________________________\n",
      "conv1d_3 (Conv1D)            (None, 179, 256)          768       \n",
      "_________________________________________________________________\n",
      "max_pooling1d_3 (MaxPooling1 (None, 89, 256)           0         \n",
      "_________________________________________________________________\n",
      "dense_3 (Dense)              (None, 89, 3)             771       \n",
      "_________________________________________________________________\n",
      "conv1d_4 (Conv1D)            (None, 89, 64)            256       \n",
      "_________________________________________________________________\n",
      "max_pooling1d_4 (MaxPooling1 (None, 44, 64)            0         \n",
      "_________________________________________________________________\n",
      "conv1d_5 (Conv1D)            (None, 44, 128)           8320      \n",
      "_________________________________________________________________\n",
      "max_pooling1d_5 (MaxPooling1 (None, 22, 128)           0         \n",
      "_________________________________________________________________\n",
      "flatten_1 (Flatten)          (None, 2816)              0         \n",
      "_________________________________________________________________\n",
      "dense_4 (Dense)              (None, 64)                180288    \n",
      "_________________________________________________________________\n",
      "output1 (Dense)              (None, 1)                 65        \n",
      "=================================================================\n",
      "Total params: 190,468\n",
      "Trainable params: 190,468\n",
      "Non-trainable params: 0\n",
      "_________________________________________________________________\n",
      "None\n"
     ]
    }
   ],
   "source": [
    "dbp_inputs = Input(shape=(n_timestepsDBP, n_featuresDBP), name='InputDBP')\n",
    "conv1 = Conv1D(filters = 256, kernel_size = 2, activation = 'relu')(dbp_inputs)\n",
    "pool1 = MaxPooling1D(pool_size = 2)(conv1)\n",
    "dense1 = Dense(3, activation='relu')(pool1)\n",
    "conv2 = Conv1D(input_shape=(n_timestepsDBP, n_outputsDBP), filters = 64, kernel_size = 1, activation = 'relu')(dense1)\n",
    "pool2 = MaxPooling1D(pool_size = 2)(conv2)\n",
    "conv3 = Conv1D(input_shape=(n_timestepsDBP, n_outputsDBP), filters=128, kernel_size = 1, activation = 'relu')(pool2)\n",
    "pool3 = MaxPooling1D(pool_size = 2)(conv3)\n",
    "flat2 = Flatten()(pool3)\n",
    "dense2 = Dense(64, activation='linear')(flat2)\n",
    "output1 = Dense(n_outputs, activation='linear', name='output1')(dense2)\n",
    "window2 = Model(inputs = dbp_inputs, outputs = output1, name='DBP')\n",
    "print(window2.summary())"
   ]
  },
  {
   "cell_type": "code",
   "execution_count": 46,
   "metadata": {
    "scrolled": false
   },
   "outputs": [
    {
     "name": "stdout",
     "output_type": "stream",
     "text": [
      "Epoch 1/10\n",
      "236/236 [==============================] - 1s 4ms/step - loss: 16427.5234 - val_loss: 14708.4404\n",
      "Epoch 2/10\n",
      "236/236 [==============================] - 1s 4ms/step - loss: 11658.5791 - val_loss: 8762.5400\n",
      "Epoch 3/10\n",
      "236/236 [==============================] - 1s 4ms/step - loss: 5665.3872 - val_loss: 3244.7156\n",
      "Epoch 4/10\n",
      "236/236 [==============================] - 1s 4ms/step - loss: 1536.3123 - val_loss: 577.3549\n",
      "Epoch 5/10\n",
      "236/236 [==============================] - 1s 4ms/step - loss: 205.6903 - val_loss: 108.5821\n",
      "Epoch 6/10\n",
      "236/236 [==============================] - 1s 4ms/step - loss: 62.4987 - val_loss: 77.1877\n",
      "Epoch 7/10\n",
      "236/236 [==============================] - 1s 4ms/step - loss: 57.8333 - val_loss: 75.6542\n",
      "Epoch 8/10\n",
      "236/236 [==============================] - 1s 4ms/step - loss: 57.6068 - val_loss: 74.0430\n",
      "Epoch 9/10\n",
      "236/236 [==============================] - 1s 4ms/step - loss: 57.6895 - val_loss: 74.0739\n",
      "Epoch 10/10\n",
      "236/236 [==============================] - 1s 4ms/step - loss: 57.7225 - val_loss: 73.7629\n"
     ]
    }
   ],
   "source": [
    "window2.compile(optimizer=optConvSBP, loss=\"mse\")\n",
    "wind2 = window2.fit(x_train2, y_train2, validation_data = (x_test2, y_test2), batch_size = 1, epochs=10)"
   ]
  },
  {
   "cell_type": "code",
   "execution_count": 47,
   "metadata": {},
   "outputs": [
    {
     "data": {
      "image/png": "[encoded data removed]",
      "text/plain": [
       "<Figure size 432x288 with 1 Axes>"
      ]
     },
     "metadata": {},
     "output_type": "display_data"
    }
   ],
   "source": [
    "plt.plot(wind2.history['val_loss'])\n",
    "plt.title(\"Val_Loss\")\n",
    "plt.ylabel(\"Loss\")\n",
    "plt.xlabel(\"Epoch\")\n",
    "plt.show()"
   ]
  },
  {
   "cell_type": "code",
   "execution_count": 48,
   "metadata": {},
   "outputs": [],
   "source": [
    "# Combined Neural Network Dense and Convolutional Neural Network\n",
    "dense3 = Dense(120, activation='relu')(output1)\n",
    "dense4 = Dense(120, activation='relu')(output)\n",
    "combined = concatenate([output1, output])\n",
    "dense5 = Dense(120, activation='linear')(combined)\n",
    "concat_out = Dense(2, activation='linear')(dense5)\n",
    "concat_model = Model(inputs = [dbp_inputs, sbp_inputs], outputs = combined, name=\"Concat_Model\")"
   ]
  },
  {
   "cell_type": "code",
   "execution_count": 49,
   "metadata": {},
   "outputs": [
    {
     "name": "stdout",
     "output_type": "stream",
     "text": [
      "Model: \"Concat_Model\"\n",
      "__________________________________________________________________________________________________\n",
      "Layer (type)                    Output Shape         Param #     Connected to                     \n",
      "==================================================================================================\n",
      "InputDBP (InputLayer)           [(None, 180, 1)]     0                                            \n",
      "__________________________________________________________________________________________________\n",
      "InputSBP (InputLayer)           [(None, 180, 1)]     0                                            \n",
      "__________________________________________________________________________________________________\n",
      "conv1d_3 (Conv1D)               (None, 179, 256)     768         InputDBP[0][0]                   \n",
      "__________________________________________________________________________________________________\n",
      "conv1d (Conv1D)                 (None, 180, 256)     512         InputSBP[0][0]                   \n",
      "__________________________________________________________________________________________________\n",
      "max_pooling1d_3 (MaxPooling1D)  (None, 89, 256)      0           conv1d_3[0][0]                   \n",
      "__________________________________________________________________________________________________\n",
      "max_pooling1d (MaxPooling1D)    (None, 90, 256)      0           conv1d[0][0]                     \n",
      "__________________________________________________________________________________________________\n",
      "dense_3 (Dense)                 (None, 89, 3)        771         max_pooling1d_3[0][0]            \n",
      "__________________________________________________________________________________________________\n",
      "dense (Dense)                   (None, 90, 3)        771         max_pooling1d[0][0]              \n",
      "__________________________________________________________________________________________________\n",
      "conv1d_4 (Conv1D)               (None, 89, 64)       256         dense_3[0][0]                    \n",
      "__________________________________________________________________________________________________\n",
      "conv1d_1 (Conv1D)               (None, 90, 64)       256         dense[0][0]                      \n",
      "__________________________________________________________________________________________________\n",
      "max_pooling1d_4 (MaxPooling1D)  (None, 44, 64)       0           conv1d_4[0][0]                   \n",
      "__________________________________________________________________________________________________\n",
      "max_pooling1d_1 (MaxPooling1D)  (None, 45, 64)       0           conv1d_1[0][0]                   \n",
      "__________________________________________________________________________________________________\n",
      "conv1d_5 (Conv1D)               (None, 44, 128)      8320        max_pooling1d_4[0][0]            \n",
      "__________________________________________________________________________________________________\n",
      "conv1d_2 (Conv1D)               (None, 45, 128)      8320        max_pooling1d_1[0][0]            \n",
      "__________________________________________________________________________________________________\n",
      "max_pooling1d_5 (MaxPooling1D)  (None, 22, 128)      0           conv1d_5[0][0]                   \n",
      "__________________________________________________________________________________________________\n",
      "max_pooling1d_2 (MaxPooling1D)  (None, 22, 128)      0           conv1d_2[0][0]                   \n",
      "__________________________________________________________________________________________________\n",
      "flatten_1 (Flatten)             (None, 2816)         0           max_pooling1d_5[0][0]            \n",
      "__________________________________________________________________________________________________\n",
      "flatten (Flatten)               (None, 2816)         0           max_pooling1d_2[0][0]            \n",
      "__________________________________________________________________________________________________\n",
      "dense_4 (Dense)                 (None, 64)           180288      flatten_1[0][0]                  \n",
      "__________________________________________________________________________________________________\n",
      "dense_1 (Dense)                 (None, 64)           180288      flatten[0][0]                    \n",
      "__________________________________________________________________________________________________\n",
      "output1 (Dense)                 (None, 1)            65          dense_4[0][0]                    \n",
      "__________________________________________________________________________________________________\n",
      "dense_2 (Dense)                 (None, 1)            65          dense_1[0][0]                    \n",
      "__________________________________________________________________________________________________\n",
      "concatenate (Concatenate)       (None, 2)            0           output1[0][0]                    \n",
      "                                                                 dense_2[0][0]                    \n",
      "==================================================================================================\n",
      "Total params: 380,680\n",
      "Trainable params: 380,680\n",
      "Non-trainable params: 0\n",
      "__________________________________________________________________________________________________\n"
     ]
    }
   ],
   "source": [
    "concat_model.compile(optimizer=optConvSBP, loss='mse')\n",
    "concat_model.summary()"
   ]
  },
  {
   "cell_type": "code",
   "execution_count": 50,
   "metadata": {},
   "outputs": [
    {
     "data": {
      "image/png": "[encoded data removed]",
      "text/plain": [
       "<IPython.core.display.Image object>"
      ]
     },
     "execution_count": 50,
     "metadata": {},
     "output_type": "execute_result"
    }
   ],
   "source": [
    "plot_model(concat_model, to_file='concatModel.png')"
   ]
  },
  {
   "cell_type": "code",
   "execution_count": 51,
   "metadata": {},
   "outputs": [
    {
     "ename": "SyntaxError",
     "evalue": "invalid syntax (<ipython-input-51-4dcd068eb50c>, line 1)",
     "output_type": "error",
     "traceback": [
      "\u001b[0;36m  File \u001b[0;32m\"<ipython-input-51-4dcd068eb50c>\"\u001b[0;36m, line \u001b[0;32m1\u001b[0m\n\u001b[0;31m    concat_fit = concat_model.fit(['InputDBP': x_train1, 'InputSBP': x_train2], [\"output\": y_train1, \"output1\":y_train2], batch_size = 1, epochs=10)\u001b[0m\n\u001b[0m                                             ^\u001b[0m\n\u001b[0;31mSyntaxError\u001b[0m\u001b[0;31m:\u001b[0m invalid syntax\n"
     ]
    }
   ],
   "source": [
    "# Not sure how to fit the models with the 2x the inputs\n",
    "concat_fit = concat_model.fit(['InputDBP': x_train1, 'InputSBP': x_train2], [\"output\": y_train1, \"output1\":y_train2], batch_size = 1, epochs=10)"
   ]
  }
 ],
 "metadata": {
  "kernelspec": {
   "display_name": "Python 3",
   "language": "python",
   "name": "python3"
  },
  "language_info": {
   "codemirror_mode": {
    "name": "ipython",
    "version": 3
   },
   "file_extension": ".py",
   "mimetype": "text/x-python",
   "name": "python",
   "nbconvert_exporter": "python",
   "pygments_lexer": "ipython3",
   "version": "3.6.9"
  }
 },
 "nbformat": 4,
 "nbformat_minor": 2
}
